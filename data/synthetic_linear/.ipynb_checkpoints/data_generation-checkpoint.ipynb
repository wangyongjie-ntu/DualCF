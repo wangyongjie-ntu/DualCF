{
 "cells": [
  {
   "cell_type": "code",
   "execution_count": 1,
   "metadata": {},
   "outputs": [],
   "source": [
    "import numpy as np\n",
    "import pandas as pd\n",
    "import matplotlib\n",
    "from matplotlib import pyplot as plt\n",
    "%matplotlib inline"
   ]
  },
  {
   "cell_type": "code",
   "execution_count": 2,
   "metadata": {},
   "outputs": [],
   "source": [
    "xx = np.random.rand(3000) * 6\n",
    "yy = np.random.rand(3000) * 6"
   ]
  },
  {
   "cell_type": "code",
   "execution_count": 3,
   "metadata": {},
   "outputs": [],
   "source": [
    "X = np.c_[xx.ravel(), yy.ravel()]"
   ]
  },
  {
   "cell_type": "code",
   "execution_count": 4,
   "metadata": {},
   "outputs": [
    {
     "data": {
      "text/plain": [
       "(3000, 2)"
      ]
     },
     "execution_count": 4,
     "metadata": {},
     "output_type": "execute_result"
    }
   ],
   "source": [
    "X.shape"
   ]
  },
  {
   "cell_type": "code",
   "execution_count": 5,
   "metadata": {},
   "outputs": [],
   "source": [
    "y = (xx * 2.1 - 3 - yy) > 0"
   ]
  },
  {
   "cell_type": "code",
   "execution_count": 6,
   "metadata": {},
   "outputs": [],
   "source": [
    "y = y.astype(int)"
   ]
  },
  {
   "cell_type": "code",
   "execution_count": 7,
   "metadata": {
    "scrolled": true
   },
   "outputs": [
    {
     "data": {
      "text/plain": [
       "(array([[3.10667446e+00, 1.30762191e+00],\n",
       "        [1.48179118e+00, 5.91352746e+00],\n",
       "        [5.50247414e+00, 2.25671574e+00],\n",
       "        ...,\n",
       "        [2.96358512e-01, 1.25957108e-03],\n",
       "        [2.89581670e+00, 2.78570868e+00],\n",
       "        [1.86424108e+00, 1.27404759e+00]]), array([1, 0, 1, ..., 0, 1, 0]))"
      ]
     },
     "execution_count": 7,
     "metadata": {},
     "output_type": "execute_result"
    }
   ],
   "source": [
    "X, y"
   ]
  },
  {
   "cell_type": "code",
   "execution_count": 8,
   "metadata": {},
   "outputs": [
    {
     "data": {
      "text/plain": [
       "array([1, 0, 1, ..., 0, 1, 0])"
      ]
     },
     "execution_count": 8,
     "metadata": {},
     "output_type": "execute_result"
    }
   ],
   "source": [
    "y"
   ]
  },
  {
   "cell_type": "code",
   "execution_count": 9,
   "metadata": {},
   "outputs": [
    {
     "data": {
      "text/plain": [
       "array([[3.10667446e+00, 1.30762191e+00],\n",
       "       [1.48179118e+00, 5.91352746e+00],\n",
       "       [5.50247414e+00, 2.25671574e+00],\n",
       "       ...,\n",
       "       [2.96358512e-01, 1.25957108e-03],\n",
       "       [2.89581670e+00, 2.78570868e+00],\n",
       "       [1.86424108e+00, 1.27404759e+00]])"
      ]
     },
     "execution_count": 9,
     "metadata": {},
     "output_type": "execute_result"
    }
   ],
   "source": [
    "X"
   ]
  },
  {
   "cell_type": "code",
   "execution_count": 10,
   "metadata": {},
   "outputs": [],
   "source": [
    "y = y[:, np.newaxis]"
   ]
  },
  {
   "cell_type": "code",
   "execution_count": 11,
   "metadata": {},
   "outputs": [],
   "source": [
    "dataset = np.concatenate((X, y), axis = 1)\n",
    "df = pd.DataFrame(dataset, columns=['X1','X2','Y'])\n",
    "df.to_csv(\"synthetic.csv\", index =False)"
   ]
  },
  {
   "cell_type": "code",
   "execution_count": 12,
   "metadata": {},
   "outputs": [
    {
     "name": "stdout",
     "output_type": "stream",
     "text": [
      "(3000, 2) (3000, 1)\n"
     ]
    }
   ],
   "source": [
    "print(X.shape, y.shape)"
   ]
  },
  {
   "cell_type": "code",
   "execution_count": 19,
   "metadata": {},
   "outputs": [],
   "source": [
    "aa = list(range(len(df)))\n",
    "import random\n",
    "random.shuffle(aa)\n",
    "\n",
    "train_idx = aa[0:int(0.5 * len(aa))]\n",
    "query_idx = aa[int(0.5 * len(aa)): int(0.75 * len(aa))]\n",
    "#val_idx = aa[int(0.65 * len(aa)): int(0.8 * len(aa))]\n",
    "test_idx = aa[int(0.75 * len(aa)):]"
   ]
  },
  {
   "cell_type": "code",
   "execution_count": 20,
   "metadata": {},
   "outputs": [],
   "source": [
    "train_df = df.iloc[train_idx]\n",
    "query_df = df.iloc[query_idx]\n",
    "#val_df = df.iloc[val_idx]\n",
    "test_df = df.iloc[test_idx]"
   ]
  },
  {
   "cell_type": "code",
   "execution_count": 21,
   "metadata": {},
   "outputs": [],
   "source": [
    "# train_df.to_csv(\"synthetic_train.csv\", index = False)\n",
    "# query_df.to_csv(\"synthetic_query.csv\", index = False)\n",
    "# #val_df.to_csv(\"synthetic_val.csv\", index = False)\n",
    "# test_df.to_csv(\"synthetic_test.csv\", index= False)"
   ]
  },
  {
   "cell_type": "code",
   "execution_count": 25,
   "metadata": {},
   "outputs": [],
   "source": [
    "sample_idx = aa[0:500]\n",
    "sample = dataset[sample_idx]"
   ]
  },
  {
   "cell_type": "code",
   "execution_count": 26,
   "metadata": {},
   "outputs": [],
   "source": [
    "sample_positive = sample[np.where(sample[:,2] == 0)]\n",
    "sample_negative = sample[np.where(sample[:,2] == 1)]"
   ]
  },
  {
   "cell_type": "code",
   "execution_count": 34,
   "metadata": {},
   "outputs": [
    {
     "data": {
      "image/png": "[encoded data removed]",
      "text/plain": [
       "<Figure size 360x360 with 1 Axes>"
      ]
     },
     "metadata": {
      "needs_background": "light"
     },
     "output_type": "display_data"
    }
   ],
   "source": [
    "fig, ax = plt.subplots()\n",
    "ax.tick_params(axis='both', which='major', labelsize=12)\n",
    "fig.set_size_inches(5, 5)\n",
    "#ax.contour(xx, yy, y)\n",
    "ax.scatter(sample_positive[:, 0], sample_positive[:, 1], c = '#1f77b4', label = \"class 0\")\n",
    "ax.scatter(sample_negative[:, 0], sample_negative[:, 1],c = '#9467bd', label = \"class 1\")\n",
    "#ax.legend(fongsize = 13)\n",
    "ax.legend(loc = 'upper right', fontsize = 14, handletextpad = 0, columnspacing = 0, borderpad = 0.2)\n",
    "ax.set_title(\"Data samples\")\n",
    "plt.tight_layout()\n",
    "plt.savefig(\"dataset.png\")\n",
    "plt.show()"
   ]
  },
  {
   "cell_type": "code",
   "execution_count": 32,
   "metadata": {},
   "outputs": [
    {
     "name": "stdout",
     "output_type": "stream",
     "text": [
      "[[1.32333635e+00 3.16362533e+00 0.00000000e+00]\n",
      " [2.93574177e+00 4.19341138e+00 0.00000000e+00]\n",
      " [8.09258715e-01 1.92018290e+00 0.00000000e+00]\n",
      " [7.05910306e-01 1.75093051e+00 0.00000000e+00]\n",
      " [3.53915630e-01 3.00082847e+00 0.00000000e+00]\n",
      " [1.54167719e+00 4.69840719e+00 0.00000000e+00]\n",
      " [1.30651290e+00 1.78402776e+00 0.00000000e+00]\n",
      " [1.84793957e+00 2.06325466e+00 0.00000000e+00]\n",
      " [8.98242701e-01 3.21885230e+00 0.00000000e+00]\n",
      " [5.51537490e-01 3.52504822e+00 0.00000000e+00]\n",
      " [2.02351074e+00 5.94640206e+00 0.00000000e+00]\n",
      " [2.22885963e+00 1.87515392e+00 0.00000000e+00]\n",
      " [2.67264995e+00 4.29872599e+00 0.00000000e+00]\n",
      " [1.32999554e+00 5.40598181e+00 0.00000000e+00]\n",
      " [2.06114461e+00 3.02272440e+00 0.00000000e+00]\n",
      " [3.91944323e+00 5.42947792e+00 0.00000000e+00]\n",
      " [2.20305914e+00 1.99490921e+00 0.00000000e+00]\n",
      " [8.71505286e-01 5.50105867e+00 0.00000000e+00]\n",
      " [8.11178393e-01 5.17217732e+00 0.00000000e+00]\n",
      " [1.50329416e+00 1.30014428e+00 0.00000000e+00]\n",
      " [1.48811863e+00 1.48527506e+00 0.00000000e+00]\n",
      " [1.28181137e+00 8.99377077e-01 0.00000000e+00]\n",
      " [5.51501872e-03 3.92845053e+00 0.00000000e+00]\n",
      " [1.43502629e+00 3.32579067e+00 0.00000000e+00]\n",
      " [2.27890269e+00 3.21703494e+00 0.00000000e+00]\n",
      " [3.30045344e+00 5.39340061e+00 0.00000000e+00]\n",
      " [5.58217509e-01 5.60491788e+00 0.00000000e+00]\n",
      " [2.64192372e+00 2.72173507e+00 0.00000000e+00]\n",
      " [6.80766082e-01 3.81309842e-01 0.00000000e+00]\n",
      " [6.73715136e-01 3.92879536e+00 0.00000000e+00]\n",
      " [7.87685387e-01 6.05299042e-01 0.00000000e+00]\n",
      " [1.79908790e+00 1.16797400e+00 0.00000000e+00]\n",
      " [1.08481228e+00 2.25731522e+00 0.00000000e+00]\n",
      " [1.64570858e+00 5.23341703e+00 0.00000000e+00]\n",
      " [1.80677115e+00 1.80930425e+00 0.00000000e+00]\n",
      " [1.71238465e+00 5.54509498e+00 0.00000000e+00]\n",
      " [2.61928795e+00 4.64249162e+00 0.00000000e+00]\n",
      " [5.70434969e-01 5.31155837e+00 0.00000000e+00]\n",
      " [1.20158875e+00 1.79082047e+00 0.00000000e+00]\n",
      " [7.90490590e-01 1.18043838e+00 0.00000000e+00]\n",
      " [8.98470657e-01 3.28096059e+00 0.00000000e+00]\n",
      " [4.33719058e-01 2.45801471e+00 0.00000000e+00]\n",
      " [1.07888964e+00 2.19902249e+00 0.00000000e+00]\n",
      " [2.23258041e+00 3.41712203e+00 0.00000000e+00]\n",
      " [8.62925956e-01 3.07419057e+00 0.00000000e+00]\n",
      " [1.63169817e+00 2.51592470e+00 0.00000000e+00]\n",
      " [1.36272802e+00 1.91071911e+00 0.00000000e+00]\n",
      " [1.40981319e+00 1.49654382e-01 0.00000000e+00]\n",
      " [1.32400582e+00 2.50245754e+00 0.00000000e+00]\n",
      " [1.62790553e-01 4.24599150e-03 0.00000000e+00]\n",
      " [3.46004923e+00 4.42802190e+00 0.00000000e+00]\n",
      " [2.30113107e+00 3.50833609e+00 0.00000000e+00]\n",
      " [1.69851647e+00 3.68460084e+00 0.00000000e+00]\n",
      " [2.69718203e+00 3.56206122e+00 0.00000000e+00]\n",
      " [2.56303791e+00 5.90459929e+00 0.00000000e+00]\n",
      " [3.60581772e-01 2.15974298e+00 0.00000000e+00]\n",
      " [3.30869444e-01 5.91011137e+00 0.00000000e+00]\n",
      " [1.44376553e+00 3.48716568e+00 0.00000000e+00]\n",
      " [3.10474449e-02 1.84146655e+00 0.00000000e+00]\n",
      " [2.49265455e+00 5.24028127e+00 0.00000000e+00]\n",
      " [2.63226511e-01 1.97612974e+00 0.00000000e+00]\n",
      " [2.35670073e-01 4.77769308e+00 0.00000000e+00]\n",
      " [2.69732874e+00 5.03892087e+00 0.00000000e+00]\n",
      " [2.17193525e+00 3.96724412e+00 0.00000000e+00]\n",
      " [3.85680501e-01 5.41131954e+00 0.00000000e+00]\n",
      " [3.64364304e+00 5.34402568e+00 0.00000000e+00]\n",
      " [3.05114861e+00 4.67752612e+00 0.00000000e+00]\n",
      " [1.35342243e+00 3.53301171e+00 0.00000000e+00]\n",
      " [1.47191705e-01 6.71688145e-01 0.00000000e+00]\n",
      " [9.94205634e-01 4.23914559e+00 0.00000000e+00]\n",
      " [3.02196277e+00 4.92294849e+00 0.00000000e+00]\n",
      " [1.12232422e+00 1.16710511e+00 0.00000000e+00]\n",
      " [6.34745734e-01 4.89738673e-01 0.00000000e+00]\n",
      " [2.90413709e+00 4.04018361e+00 0.00000000e+00]\n",
      " [7.65542543e-01 8.17670798e-01 0.00000000e+00]\n",
      " [3.13897843e+00 4.33429714e+00 0.00000000e+00]\n",
      " [3.03611489e+00 5.26673957e+00 0.00000000e+00]\n",
      " [2.04158208e+00 2.68065760e+00 0.00000000e+00]\n",
      " [2.60548872e-01 4.36759113e+00 0.00000000e+00]\n",
      " [5.06915856e-01 3.39940322e+00 0.00000000e+00]\n",
      " [2.82162526e+00 4.16377572e+00 0.00000000e+00]\n",
      " [1.37807664e+00 1.89671612e+00 0.00000000e+00]\n",
      " [1.49696642e+00 3.40869268e+00 0.00000000e+00]\n",
      " [2.63962024e+00 4.83895933e+00 0.00000000e+00]\n",
      " [1.29890763e+00 1.00371110e-01 0.00000000e+00]\n",
      " [1.60148530e+00 5.77647784e+00 0.00000000e+00]\n",
      " [1.57887171e+00 4.98999293e-01 0.00000000e+00]\n",
      " [1.15548413e+00 2.50141372e+00 0.00000000e+00]\n",
      " [1.92446858e+00 5.14777910e+00 0.00000000e+00]\n",
      " [2.64415143e+00 5.65973069e+00 0.00000000e+00]\n",
      " [4.18569634e-01 1.01621362e+00 0.00000000e+00]\n",
      " [1.14855941e+00 5.20841836e+00 0.00000000e+00]\n",
      " [5.72931728e-02 4.20426182e-01 0.00000000e+00]\n",
      " [6.52528273e-01 5.42593479e+00 0.00000000e+00]\n",
      " [2.00807775e+00 2.96570865e+00 0.00000000e+00]\n",
      " [1.39360440e+00 4.38018040e+00 0.00000000e+00]\n",
      " [4.00320579e-01 5.96564686e+00 0.00000000e+00]\n",
      " [1.40182531e+00 2.08255156e+00 0.00000000e+00]\n",
      " [8.36832278e-01 1.32589986e+00 0.00000000e+00]\n",
      " [2.73371462e-01 9.94781342e-01 0.00000000e+00]\n",
      " [9.92122593e-01 2.91241061e+00 0.00000000e+00]\n",
      " [1.17783622e-01 2.34025204e+00 0.00000000e+00]\n",
      " [2.04840549e+00 4.68871046e+00 0.00000000e+00]\n",
      " [5.72829240e-01 3.83992882e-01 0.00000000e+00]\n",
      " [1.34835103e+00 4.73223908e+00 0.00000000e+00]\n",
      " [1.93583011e+00 1.88128345e+00 0.00000000e+00]\n",
      " [2.75902787e+00 5.33400959e+00 0.00000000e+00]\n",
      " [3.49992194e-01 3.57516127e+00 0.00000000e+00]\n",
      " [4.00033731e-01 3.87120483e+00 0.00000000e+00]\n",
      " [1.12264873e+00 3.25881629e+00 0.00000000e+00]\n",
      " [3.57303600e+00 4.71226079e+00 0.00000000e+00]\n",
      " [3.15825289e+00 5.91013263e+00 0.00000000e+00]\n",
      " [3.02741553e+00 5.49040140e+00 0.00000000e+00]\n",
      " [1.48085764e+00 2.73750289e+00 0.00000000e+00]\n",
      " [1.91561644e+00 1.33222392e+00 0.00000000e+00]\n",
      " [3.20956823e+00 4.76303523e+00 0.00000000e+00]\n",
      " [1.27622040e+00 3.21362136e+00 0.00000000e+00]\n",
      " [2.87411712e-01 5.47693745e+00 0.00000000e+00]\n",
      " [2.53389994e+00 4.61846288e+00 0.00000000e+00]\n",
      " [2.44449174e+00 3.36072840e+00 0.00000000e+00]\n",
      " [3.04949472e+00 5.13529889e+00 0.00000000e+00]\n",
      " [2.77319890e+00 4.09009015e+00 0.00000000e+00]\n",
      " [2.22126198e+00 3.36230795e+00 0.00000000e+00]\n",
      " [3.37873499e+00 4.99402003e+00 0.00000000e+00]\n",
      " [2.36231960e+00 4.63007712e+00 0.00000000e+00]\n",
      " [8.23069250e-01 1.89524374e+00 0.00000000e+00]\n",
      " [8.93249392e-01 4.74845218e+00 0.00000000e+00]\n",
      " [1.14924039e+00 4.30817903e+00 0.00000000e+00]\n",
      " [7.11222573e-01 2.76484101e+00 0.00000000e+00]\n",
      " [2.72731248e+00 3.89588493e+00 0.00000000e+00]\n",
      " [5.64689052e-02 5.74448928e+00 0.00000000e+00]\n",
      " [1.64716413e+00 2.96799397e+00 0.00000000e+00]\n",
      " [2.47313821e+00 3.95921791e+00 0.00000000e+00]\n",
      " [1.27388201e+00 1.93686089e+00 0.00000000e+00]\n",
      " [9.54223216e-01 3.05522109e+00 0.00000000e+00]\n",
      " [7.74031163e-01 8.19017213e-01 0.00000000e+00]\n",
      " [1.88271542e+00 4.58964710e+00 0.00000000e+00]\n",
      " [1.87506266e+00 3.55040397e+00 0.00000000e+00]\n",
      " [4.66487233e-01 2.18764434e+00 0.00000000e+00]\n",
      " [2.53842247e+00 3.23102632e+00 0.00000000e+00]\n",
      " [2.46508256e-01 3.37403349e+00 0.00000000e+00]\n",
      " [1.41357154e+00 5.15660445e+00 0.00000000e+00]\n",
      " [8.54529600e-01 1.77786917e+00 0.00000000e+00]\n",
      " [3.13294401e-01 1.58517210e+00 0.00000000e+00]\n",
      " [2.29347125e+00 3.17067324e+00 0.00000000e+00]\n",
      " [3.42086581e-01 1.67360425e+00 0.00000000e+00]\n",
      " [3.20098697e-01 1.01282889e+00 0.00000000e+00]\n",
      " [1.60473042e+00 4.58951688e-01 0.00000000e+00]\n",
      " [2.84794266e+00 5.17779156e+00 0.00000000e+00]\n",
      " [3.30887958e-01 4.45684875e+00 0.00000000e+00]\n",
      " [4.77958107e-02 4.81323482e-01 0.00000000e+00]\n",
      " [2.44853958e+00 4.84061925e+00 0.00000000e+00]\n",
      " [2.51153777e+00 4.16792472e+00 0.00000000e+00]\n",
      " [3.79081704e+00 5.48482992e+00 0.00000000e+00]\n",
      " [7.98060284e-02 3.16373457e+00 0.00000000e+00]\n",
      " [2.59473024e+00 4.85573361e+00 0.00000000e+00]\n",
      " [1.35833421e-01 2.79850948e+00 0.00000000e+00]\n",
      " [2.90889425e+00 3.85004052e+00 0.00000000e+00]\n",
      " [2.57962556e+00 4.68675366e+00 0.00000000e+00]\n",
      " [1.07893027e-01 8.33315346e-03 0.00000000e+00]\n",
      " [2.46586428e-01 2.24013382e+00 0.00000000e+00]\n",
      " [1.52938098e+00 2.17684662e-01 0.00000000e+00]\n",
      " [1.59944860e+00 4.14423169e+00 0.00000000e+00]\n",
      " [5.16544497e-01 1.29467416e+00 0.00000000e+00]\n",
      " [1.86653622e-01 5.92779635e+00 0.00000000e+00]\n",
      " [2.61252902e+00 4.20965440e+00 0.00000000e+00]\n",
      " [3.58420852e+00 5.58494522e+00 0.00000000e+00]\n",
      " [2.84583048e+00 4.08010719e+00 0.00000000e+00]\n",
      " [2.72118333e+00 2.72822754e+00 0.00000000e+00]\n",
      " [2.19606936e-01 1.68351939e+00 0.00000000e+00]\n",
      " [1.64044621e+00 3.76270984e+00 0.00000000e+00]\n",
      " [3.47922784e+00 5.37769552e+00 0.00000000e+00]\n",
      " [6.03456802e-01 3.22438235e+00 0.00000000e+00]\n",
      " [1.64170704e+00 4.78672369e+00 0.00000000e+00]\n",
      " [2.59804801e+00 2.76641467e+00 0.00000000e+00]\n",
      " [2.94706477e+00 5.90220420e+00 0.00000000e+00]\n",
      " [3.23842947e+00 5.01788389e+00 0.00000000e+00]\n",
      " [6.17709685e-01 2.40773774e+00 0.00000000e+00]\n",
      " [1.40143201e+00 1.67526231e+00 0.00000000e+00]\n",
      " [1.13864135e+00 1.48040965e-01 0.00000000e+00]\n",
      " [2.11046402e+00 1.75798096e+00 0.00000000e+00]\n",
      " [7.19666086e-01 4.21828796e+00 0.00000000e+00]\n",
      " [8.06406552e-01 2.45304316e+00 0.00000000e+00]\n",
      " [1.67376491e+00 1.72445029e+00 0.00000000e+00]\n",
      " [8.46515390e-01 2.41852925e+00 0.00000000e+00]\n",
      " [7.58427140e-02 1.37126624e+00 0.00000000e+00]\n",
      " [1.42155822e+00 1.23681134e+00 0.00000000e+00]\n",
      " [8.80544441e-01 5.40542416e+00 0.00000000e+00]\n",
      " [3.64194379e+00 5.87313318e+00 0.00000000e+00]\n",
      " [2.84863949e+00 5.79856520e+00 0.00000000e+00]\n",
      " [1.95570589e-01 1.82921966e-01 0.00000000e+00]\n",
      " [2.44951976e+00 4.99747562e+00 0.00000000e+00]\n",
      " [3.00784146e+00 3.87732683e+00 0.00000000e+00]\n",
      " [2.19750982e+00 3.75420763e+00 0.00000000e+00]\n",
      " [2.81811487e+00 4.74918875e+00 0.00000000e+00]\n",
      " [2.52594714e+00 4.94701472e+00 0.00000000e+00]\n",
      " [9.64326554e-01 4.24572980e-01 0.00000000e+00]\n",
      " [1.00207898e+00 4.46767000e+00 0.00000000e+00]\n",
      " [2.21959339e+00 5.11377191e+00 0.00000000e+00]\n",
      " [2.05783592e-01 2.92997960e-01 0.00000000e+00]\n",
      " [3.34551510e-01 4.58106220e+00 0.00000000e+00]\n",
      " [1.67260286e+00 2.31095407e+00 0.00000000e+00]\n",
      " [3.34760568e+00 4.07629167e+00 0.00000000e+00]\n",
      " [2.93576644e+00 3.66828589e+00 0.00000000e+00]\n",
      " [2.47451384e-01 1.52570463e-02 0.00000000e+00]\n",
      " [6.88608395e-01 9.45248735e-01 0.00000000e+00]\n",
      " [1.82443755e+00 5.68578365e+00 0.00000000e+00]\n",
      " [1.80938675e+00 1.69531465e+00 0.00000000e+00]\n",
      " [1.06416437e+00 2.32765841e+00 0.00000000e+00]\n",
      " [3.89817047e+00 5.70905294e+00 0.00000000e+00]\n",
      " [1.19787360e+00 3.06897538e+00 0.00000000e+00]\n",
      " [1.15880956e-01 4.05999081e+00 0.00000000e+00]\n",
      " [1.43530332e+00 2.83224157e+00 0.00000000e+00]\n",
      " [2.20443256e+00 2.36074581e+00 0.00000000e+00]\n",
      " [2.27855531e+00 3.94161363e+00 0.00000000e+00]\n",
      " [1.78305425e+00 8.24392645e-01 0.00000000e+00]\n",
      " [1.93624344e+00 4.42834417e+00 0.00000000e+00]\n",
      " [1.53968306e+00 5.89918308e+00 0.00000000e+00]\n",
      " [2.82559969e+00 4.90202764e+00 0.00000000e+00]\n",
      " [8.96146387e-02 4.53125593e+00 0.00000000e+00]\n",
      " [1.33252400e+00 2.04343175e+00 0.00000000e+00]\n",
      " [1.13427334e+00 3.44110241e+00 0.00000000e+00]\n",
      " [1.44057450e+00 4.46457386e+00 0.00000000e+00]\n",
      " [1.60148359e+00 1.36538551e+00 0.00000000e+00]\n",
      " [1.62520480e-01 1.27206770e+00 0.00000000e+00]\n",
      " [6.27786058e-01 3.13638800e+00 0.00000000e+00]\n",
      " [1.72817027e+00 4.53008062e+00 0.00000000e+00]\n",
      " [2.17693776e+00 1.95525183e+00 0.00000000e+00]\n",
      " [2.82386946e+00 3.06021523e+00 0.00000000e+00]\n",
      " [2.12858337e+00 4.14529580e+00 0.00000000e+00]\n",
      " [1.18829994e+00 4.64838068e-01 0.00000000e+00]\n",
      " [2.89792852e+00 5.90952449e+00 0.00000000e+00]\n",
      " [9.11453869e-01 5.31213803e+00 0.00000000e+00]\n",
      " [1.23759495e+00 4.94671334e+00 0.00000000e+00]\n",
      " [2.46251966e+00 3.93125950e+00 0.00000000e+00]\n",
      " [1.17096059e+00 4.77534965e+00 0.00000000e+00]\n",
      " [1.22564844e+00 1.20222786e+00 0.00000000e+00]\n",
      " [1.37091666e+00 9.28741392e-01 0.00000000e+00]\n",
      " [7.79835305e-01 1.64402244e+00 0.00000000e+00]\n",
      " [4.61706121e-01 5.04865674e+00 0.00000000e+00]\n",
      " [1.68246043e+00 4.07206371e+00 0.00000000e+00]\n",
      " [1.76158181e+00 1.31456910e+00 0.00000000e+00]\n",
      " [3.28281632e+00 5.61220031e+00 0.00000000e+00]\n",
      " [3.13667207e+00 4.90463772e+00 0.00000000e+00]\n",
      " [2.51168477e+00 4.90606109e+00 0.00000000e+00]\n",
      " [1.76084358e+00 1.53201994e+00 0.00000000e+00]]\n"
     ]
    }
   ],
   "source": [
    "print(sample_positive)"
   ]
  },
  {
   "cell_type": "code",
   "execution_count": 33,
   "metadata": {},
   "outputs": [],
   "source": [
    "np.save(\"sample_positive.npy\", sample_positive)\n",
    "np.save(\"sample_negative.npy\", sample_negative)"
   ]
  },
  {
   "cell_type": "code",
   "execution_count": null,
   "metadata": {},
   "outputs": [],
   "source": []
  }
 ],
 "metadata": {
  "kernelspec": {
   "display_name": "Python 3",
   "language": "python",
   "name": "python3"
  },
  "language_info": {
   "codemirror_mode": {
    "name": "ipython",
    "version": 3
   },
   "file_extension": ".py",
   "mimetype": "text/x-python",
   "name": "python",
   "nbconvert_exporter": "python",
   "pygments_lexer": "ipython3",
   "version": "3.7.3"
  }
 },
 "nbformat": 4,
 "nbformat_minor": 2
}
