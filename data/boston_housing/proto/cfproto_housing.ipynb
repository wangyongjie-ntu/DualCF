{
 "cells": [
  {
   "cell_type": "markdown",
   "metadata": {},
   "source": [
    "# Counterfactuals guided by prototypes on Boston housing dataset"
   ]
  },
  {
   "cell_type": "markdown",
   "metadata": {},
   "source": [
    "This notebook goes through an example of [prototypical counterfactuals](../methods/CFProto.ipynb) using [k-d trees](https://en.wikipedia.org/wiki/K-d_tree) to build the prototypes. Please check out [this notebook](./cfproto_mnist.ipynb) for a more in-depth application of the method on MNIST using (auto-)encoders and trust scores.\n",
    "\n",
    "In this example, we will train a simple neural net to predict whether house prices in the Boston area are above the median value or not. We can then find a counterfactual to see which variables need to be changed to increase or decrease a house price above or below the median value."
   ]
  },
  {
   "cell_type": "code",
   "execution_count": 1,
   "metadata": {},
   "outputs": [
    {
     "name": "stdout",
     "output_type": "stream",
     "text": [
      "TF version:  2.5.1\n",
      "Eager execution enabled:  False\n"
     ]
    }
   ],
   "source": [
    "import tensorflow as tf\n",
    "tf.get_logger().setLevel(40) # suppress deprecation messages\n",
    "tf.compat.v1.disable_v2_behavior() # disable TF2 behaviour as alibi code still relies on TF1 constructs \n",
    "from tensorflow.keras.layers import Dense, Input\n",
    "from tensorflow.keras.models import Model, load_model\n",
    "from tensorflow.keras.utils import to_categorical\n",
    "import matplotlib\n",
    "%matplotlib inline\n",
    "import matplotlib.pyplot as plt\n",
    "import numpy as np\n",
    "import os\n",
    "import random\n",
    "from sklearn.datasets import load_boston\n",
    "from alibi.explainers.cfproto import CounterfactualProto\n",
    "from sklearn.preprocessing import StandardScaler, MinMaxScaler\n",
    "\n",
    "print('TF version: ', tf.__version__)\n",
    "print('Eager execution enabled: ', tf.executing_eagerly()) # False"
   ]
  },
  {
   "cell_type": "markdown",
   "metadata": {},
   "source": [
    "## Load and prepare Boston housing dataset"
   ]
  },
  {
   "cell_type": "code",
   "execution_count": 2,
   "metadata": {},
   "outputs": [],
   "source": [
    "boston = load_boston()\n",
    "data = boston.data\n",
    "target = boston.target\n",
    "feature_names = boston.feature_names"
   ]
  },
  {
   "cell_type": "markdown",
   "metadata": {},
   "source": [
    "Transform into classification task: target becomes whether house price is above the overall median or not"
   ]
  },
  {
   "cell_type": "code",
   "execution_count": 3,
   "metadata": {},
   "outputs": [],
   "source": [
    "y = np.zeros((target.shape[0],))\n",
    "y[np.where(target > np.median(target))[0]] = 1"
   ]
  },
  {
   "cell_type": "markdown",
   "metadata": {},
   "source": [
    "Remove categorical feature"
   ]
  },
  {
   "cell_type": "code",
   "execution_count": 4,
   "metadata": {},
   "outputs": [],
   "source": [
    "data = np.delete(data, 3, 1)\n",
    "feature_names = np.delete(feature_names, 3)"
   ]
  },
  {
   "cell_type": "markdown",
   "metadata": {},
   "source": [
    "Explanation of remaining features:\n",
    "\n",
    "- CRIM: per capita crime rate by town\n",
    "- ZN: proportion of residential land zoned for lots over 25,000 sq.ft.\n",
    "- INDUS: proportion of non-retail business acres per town\n",
    "- RM: average number of rooms per dwelling\n",
    "- AGE: proportion of owner-occupied units built prior to 1940\n",
    "- DIS: weighted distances to five Boston employment centres\n",
    "- RAD: index of accessibility to radial highways\n",
    "- TAX: full-value property-tax rate per USD10,000\n",
    "- PTRATIO: pupil-teacher ratio by town\n",
    "- B: 1000(Bk - 0.63)^2 where Bk is the proportion of blacks by town\n",
    "- LSTAT: % lower status of the population"
   ]
  },
  {
   "cell_type": "markdown",
   "metadata": {},
   "source": [
    "Standardize data"
   ]
  },
  {
   "cell_type": "code",
   "execution_count": 5,
   "metadata": {},
   "outputs": [],
   "source": [
    "random.seed(0)\n",
    "a = list(range(len(data)))\n",
    "random.shuffle(a)\n",
    "length = len(a)"
   ]
  },
  {
   "cell_type": "markdown",
   "metadata": {},
   "source": [
    "Define train and test set"
   ]
  },
  {
   "cell_type": "code",
   "execution_count": 6,
   "metadata": {},
   "outputs": [],
   "source": [
    "train_x, train_y = data[a[0:int(0.5*length)]], y[a[0:int(0.5*length)]]\n",
    "query_x, query_y = data[a[int(0.5*length):int(0.75*length)]], y[a[int(0.5*length):int(0.75*length)]]\n",
    "test_x, test_y = data[a[int(0.75*length):]], y[a[int(0.75*length):]]"
   ]
  },
  {
   "cell_type": "code",
   "execution_count": 7,
   "metadata": {},
   "outputs": [],
   "source": [
    "scaler = StandardScaler()\n",
    "strain_x = scaler.fit_transform(train_x)\n",
    "squery_x = scaler.transform(query_x)\n",
    "stest_x = scaler.transform(test_x)"
   ]
  },
  {
   "cell_type": "code",
   "execution_count": 8,
   "metadata": {},
   "outputs": [],
   "source": [
    "otrain_y = to_categorical(train_y)\n",
    "oquery_y = to_categorical(query_y)\n",
    "otest_y = to_categorical(test_y)"
   ]
  },
  {
   "cell_type": "markdown",
   "metadata": {},
   "source": [
    "## Train model"
   ]
  },
  {
   "cell_type": "code",
   "execution_count": 9,
   "metadata": {},
   "outputs": [],
   "source": [
    "np.random.seed(42)\n",
    "tf.random.set_seed(42)"
   ]
  },
  {
   "cell_type": "code",
   "execution_count": 10,
   "metadata": {},
   "outputs": [],
   "source": [
    "def nn_model():\n",
    "    x_in = Input(shape=(12,))\n",
    "    x = Dense(40, activation='relu')(x_in)\n",
    "    x = Dense(40, activation='relu')(x)\n",
    "    x_out = Dense(2, activation='softmax')(x)\n",
    "    nn = Model(inputs=x_in, outputs=x_out)\n",
    "    nn.compile(loss='categorical_crossentropy', optimizer='sgd', metrics=['accuracy'])\n",
    "    return nn"
   ]
  },
  {
   "cell_type": "code",
   "execution_count": 11,
   "metadata": {},
   "outputs": [
    {
     "name": "stdout",
     "output_type": "stream",
     "text": [
      "Model: \"model\"\n",
      "_________________________________________________________________\n",
      "Layer (type)                 Output Shape              Param #   \n",
      "=================================================================\n",
      "input_1 (InputLayer)         [(None, 12)]              0         \n",
      "_________________________________________________________________\n",
      "dense (Dense)                (None, 40)                520       \n",
      "_________________________________________________________________\n",
      "dense_1 (Dense)              (None, 40)                1640      \n",
      "_________________________________________________________________\n",
      "dense_2 (Dense)              (None, 2)                 82        \n",
      "=================================================================\n",
      "Total params: 2,242\n",
      "Trainable params: 2,242\n",
      "Non-trainable params: 0\n",
      "_________________________________________________________________\n"
     ]
    }
   ],
   "source": [
    "nn = nn_model()\n",
    "nn.summary()\n",
    "nn.fit(strain_x, otrain_y, batch_size=64, epochs=500, verbose=0)\n",
    "nn.save('nn_boston.h5', save_format='h5')"
   ]
  },
  {
   "cell_type": "code",
   "execution_count": 12,
   "metadata": {},
   "outputs": [
    {
     "name": "stdout",
     "output_type": "stream",
     "text": [
      "[0.23143866563600207, 0.8730159]\n",
      "[0.31804604417695775, 0.8582677]\n"
     ]
    },
    {
     "name": "stderr",
     "output_type": "stream",
     "text": [
      "`Model.state_updates` will be removed in a future version. This property should not be used in TensorFlow 2.0, as `updates` are applied automatically.\n"
     ]
    }
   ],
   "source": [
    "nn = load_model('nn_boston.h5')\n",
    "print(nn.evaluate(squery_x, oquery_y))\n",
    "print(nn.evaluate(stest_x, otest_y))"
   ]
  },
  {
   "cell_type": "markdown",
   "metadata": {},
   "source": [
    "# Train Autoencoder"
   ]
  },
  {
   "cell_type": "code",
   "execution_count": 23,
   "metadata": {},
   "outputs": [],
   "source": [
    "def ae_model():\n",
    "    # encoder\n",
    "    x_in = Input(shape=(12,))\n",
    "    x = Dense(30, activation='relu')(x_in)\n",
    "    x = Dense(15, activation='relu')(x)\n",
    "    encoded = Dense(5, activation=None)(x)\n",
    "    encoder = Model(x_in, encoded)\n",
    "\n",
    "    # decoder\n",
    "    dec_in = Input(shape=(5,))\n",
    "    x = Dense(15, activation='relu')(dec_in)\n",
    "    x = Dense(30, activation='relu')(x)\n",
    "    decoded = Dense(12, activation=None)(x)\n",
    "    decoder = Model(dec_in, decoded)\n",
    "\n",
    "    # autoencoder = encoder + decoder\n",
    "    x_out = decoder(encoder(x_in))\n",
    "    autoencoder = Model(x_in, x_out)\n",
    "    autoencoder.compile(optimizer='adam', loss='mse')\n",
    "\n",
    "    return autoencoder, encoder, decoder"
   ]
  },
  {
   "cell_type": "code",
   "execution_count": 25,
   "metadata": {},
   "outputs": [
    {
     "name": "stdout",
     "output_type": "stream",
     "text": [
      "Model: \"model_6\"\n",
      "_________________________________________________________________\n",
      "Layer (type)                 Output Shape              Param #   \n",
      "=================================================================\n",
      "input_4 (InputLayer)         [(None, 12)]              0         \n",
      "_________________________________________________________________\n",
      "model_4 (Functional)         (None, 5)                 935       \n",
      "_________________________________________________________________\n",
      "model_5 (Functional)         (None, 12)                942       \n",
      "=================================================================\n",
      "Total params: 1,877\n",
      "Trainable params: 1,877\n",
      "Non-trainable params: 0\n",
      "_________________________________________________________________\n",
      "Train on 253 samples, validate on 253 samples\n",
      "Epoch 1/100\n",
      "253/253 [==============================] - 0s 1ms/sample - loss: 1.0535 - val_loss: 1.0339\n",
      "Epoch 2/100\n",
      "253/253 [==============================] - 0s 46us/sample - loss: 1.0282 - val_loss: 1.0106\n",
      "Epoch 3/100\n",
      "253/253 [==============================] - 0s 44us/sample - loss: 1.0057 - val_loss: 0.9902\n",
      "Epoch 4/100\n",
      "253/253 [==============================] - 0s 51us/sample - loss: 0.9859 - val_loss: 0.9720\n",
      "Epoch 5/100\n",
      "253/253 [==============================] - 0s 54us/sample - loss: 0.9680 - val_loss: 0.9547\n",
      "Epoch 6/100\n",
      "253/253 [==============================] - 0s 56us/sample - loss: 0.9509 - val_loss: 0.9379\n",
      "Epoch 7/100\n",
      "253/253 [==============================] - 0s 60us/sample - loss: 0.9339 - val_loss: 0.9205\n",
      "Epoch 8/100\n",
      "253/253 [==============================] - 0s 64us/sample - loss: 0.9159 - val_loss: 0.9024\n",
      "Epoch 9/100\n",
      "253/253 [==============================] - 0s 57us/sample - loss: 0.8977 - val_loss: 0.8832\n",
      "Epoch 10/100\n",
      "253/253 [==============================] - 0s 58us/sample - loss: 0.8788 - val_loss: 0.8631\n",
      "Epoch 11/100\n",
      "253/253 [==============================] - 0s 61us/sample - loss: 0.8587 - val_loss: 0.8421\n",
      "Epoch 12/100\n",
      "253/253 [==============================] - 0s 64us/sample - loss: 0.8366 - val_loss: 0.8208\n",
      "Epoch 13/100\n",
      "253/253 [==============================] - 0s 59us/sample - loss: 0.8161 - val_loss: 0.7990\n",
      "Epoch 14/100\n",
      "253/253 [==============================] - 0s 50us/sample - loss: 0.7935 - val_loss: 0.7773\n",
      "Epoch 15/100\n",
      "253/253 [==============================] - 0s 56us/sample - loss: 0.7720 - val_loss: 0.7561\n",
      "Epoch 16/100\n",
      "253/253 [==============================] - 0s 58us/sample - loss: 0.7507 - val_loss: 0.7360\n",
      "Epoch 17/100\n",
      "253/253 [==============================] - 0s 50us/sample - loss: 0.7317 - val_loss: 0.7172\n",
      "Epoch 18/100\n",
      "253/253 [==============================] - 0s 49us/sample - loss: 0.7125 - val_loss: 0.7000\n",
      "Epoch 19/100\n",
      "253/253 [==============================] - 0s 55us/sample - loss: 0.6959 - val_loss: 0.6840\n",
      "Epoch 20/100\n",
      "253/253 [==============================] - 0s 49us/sample - loss: 0.6804 - val_loss: 0.6689\n",
      "Epoch 21/100\n",
      "253/253 [==============================] - 0s 63us/sample - loss: 0.6651 - val_loss: 0.6542\n",
      "Epoch 22/100\n",
      "253/253 [==============================] - 0s 51us/sample - loss: 0.6504 - val_loss: 0.6396\n",
      "Epoch 23/100\n",
      "253/253 [==============================] - 0s 55us/sample - loss: 0.6357 - val_loss: 0.6253\n",
      "Epoch 24/100\n",
      "253/253 [==============================] - 0s 60us/sample - loss: 0.6221 - val_loss: 0.6112\n",
      "Epoch 25/100\n",
      "253/253 [==============================] - 0s 58us/sample - loss: 0.6077 - val_loss: 0.5979\n",
      "Epoch 26/100\n",
      "253/253 [==============================] - 0s 58us/sample - loss: 0.5946 - val_loss: 0.5854\n",
      "Epoch 27/100\n",
      "253/253 [==============================] - 0s 57us/sample - loss: 0.5824 - val_loss: 0.5737\n",
      "Epoch 28/100\n",
      "253/253 [==============================] - 0s 54us/sample - loss: 0.5713 - val_loss: 0.5626\n",
      "Epoch 29/100\n",
      "253/253 [==============================] - 0s 52us/sample - loss: 0.5603 - val_loss: 0.5521\n",
      "Epoch 30/100\n",
      "253/253 [==============================] - 0s 55us/sample - loss: 0.5494 - val_loss: 0.5420\n",
      "Epoch 31/100\n",
      "253/253 [==============================] - 0s 57us/sample - loss: 0.5400 - val_loss: 0.5322\n",
      "Epoch 32/100\n",
      "253/253 [==============================] - 0s 53us/sample - loss: 0.5298 - val_loss: 0.5227\n",
      "Epoch 33/100\n",
      "253/253 [==============================] - 0s 56us/sample - loss: 0.5201 - val_loss: 0.5133\n",
      "Epoch 34/100\n",
      "253/253 [==============================] - 0s 53us/sample - loss: 0.5108 - val_loss: 0.5038\n",
      "Epoch 35/100\n",
      "253/253 [==============================] - 0s 57us/sample - loss: 0.5015 - val_loss: 0.4943\n",
      "Epoch 36/100\n",
      "253/253 [==============================] - 0s 49us/sample - loss: 0.4921 - val_loss: 0.4845\n",
      "Epoch 37/100\n",
      "253/253 [==============================] - 0s 49us/sample - loss: 0.4822 - val_loss: 0.4746\n",
      "Epoch 38/100\n",
      "253/253 [==============================] - 0s 52us/sample - loss: 0.4723 - val_loss: 0.4648\n",
      "Epoch 39/100\n",
      "253/253 [==============================] - 0s 55us/sample - loss: 0.4622 - val_loss: 0.4551\n",
      "Epoch 40/100\n",
      "253/253 [==============================] - 0s 62us/sample - loss: 0.4527 - val_loss: 0.4456\n",
      "Epoch 41/100\n",
      "253/253 [==============================] - 0s 59us/sample - loss: 0.4432 - val_loss: 0.4362\n",
      "Epoch 42/100\n",
      "253/253 [==============================] - 0s 63us/sample - loss: 0.4342 - val_loss: 0.4269\n",
      "Epoch 43/100\n",
      "253/253 [==============================] - 0s 58us/sample - loss: 0.4247 - val_loss: 0.4180\n",
      "Epoch 44/100\n",
      "253/253 [==============================] - 0s 55us/sample - loss: 0.4160 - val_loss: 0.4093\n",
      "Epoch 45/100\n",
      "253/253 [==============================] - 0s 52us/sample - loss: 0.4073 - val_loss: 0.4009\n",
      "Epoch 46/100\n",
      "253/253 [==============================] - 0s 54us/sample - loss: 0.3990 - val_loss: 0.3927\n",
      "Epoch 47/100\n",
      "253/253 [==============================] - 0s 41us/sample - loss: 0.3908 - val_loss: 0.3846\n",
      "Epoch 48/100\n",
      "253/253 [==============================] - 0s 41us/sample - loss: 0.3827 - val_loss: 0.3764\n",
      "Epoch 49/100\n",
      "253/253 [==============================] - 0s 35us/sample - loss: 0.3745 - val_loss: 0.3682\n",
      "Epoch 50/100\n",
      "253/253 [==============================] - 0s 35us/sample - loss: 0.3661 - val_loss: 0.3599\n",
      "Epoch 51/100\n",
      "253/253 [==============================] - 0s 34us/sample - loss: 0.3579 - val_loss: 0.3520\n",
      "Epoch 52/100\n",
      "253/253 [==============================] - 0s 39us/sample - loss: 0.3505 - val_loss: 0.3445\n",
      "Epoch 53/100\n",
      "253/253 [==============================] - 0s 41us/sample - loss: 0.3428 - val_loss: 0.3378\n",
      "Epoch 54/100\n",
      "253/253 [==============================] - 0s 46us/sample - loss: 0.3364 - val_loss: 0.3316\n",
      "Epoch 55/100\n",
      "253/253 [==============================] - 0s 43us/sample - loss: 0.3300 - val_loss: 0.3257\n",
      "Epoch 56/100\n",
      "253/253 [==============================] - 0s 48us/sample - loss: 0.3245 - val_loss: 0.3198\n",
      "Epoch 57/100\n",
      "253/253 [==============================] - 0s 53us/sample - loss: 0.3186 - val_loss: 0.3141\n",
      "Epoch 58/100\n",
      "253/253 [==============================] - ETA: 0s - loss: 0.298 - 0s 58us/sample - loss: 0.3127 - val_loss: 0.3086\n",
      "Epoch 59/100\n",
      "253/253 [==============================] - 0s 54us/sample - loss: 0.3073 - val_loss: 0.3033\n",
      "Epoch 60/100\n",
      "253/253 [==============================] - 0s 68us/sample - loss: 0.3023 - val_loss: 0.2982\n",
      "Epoch 61/100\n",
      "253/253 [==============================] - 0s 56us/sample - loss: 0.2972 - val_loss: 0.2932\n",
      "Epoch 62/100\n",
      "253/253 [==============================] - 0s 51us/sample - loss: 0.2921 - val_loss: 0.2884\n",
      "Epoch 63/100\n",
      "253/253 [==============================] - 0s 54us/sample - loss: 0.2873 - val_loss: 0.2834\n",
      "Epoch 64/100\n",
      "253/253 [==============================] - 0s 53us/sample - loss: 0.2824 - val_loss: 0.2785\n",
      "Epoch 65/100\n",
      "253/253 [==============================] - 0s 62us/sample - loss: 0.2774 - val_loss: 0.2737\n",
      "Epoch 66/100\n",
      "253/253 [==============================] - 0s 61us/sample - loss: 0.2726 - val_loss: 0.2691\n",
      "Epoch 67/100\n",
      "253/253 [==============================] - 0s 65us/sample - loss: 0.2680 - val_loss: 0.2647\n",
      "Epoch 68/100\n",
      "253/253 [==============================] - 0s 55us/sample - loss: 0.2639 - val_loss: 0.2605\n",
      "Epoch 69/100\n",
      "253/253 [==============================] - 0s 46us/sample - loss: 0.2597 - val_loss: 0.2565\n",
      "Epoch 70/100\n",
      "253/253 [==============================] - 0s 45us/sample - loss: 0.2557 - val_loss: 0.2528\n",
      "Epoch 71/100\n",
      "253/253 [==============================] - 0s 44us/sample - loss: 0.2522 - val_loss: 0.2491\n",
      "Epoch 72/100\n",
      "253/253 [==============================] - 0s 49us/sample - loss: 0.2483 - val_loss: 0.2456\n",
      "Epoch 73/100\n",
      "253/253 [==============================] - 0s 49us/sample - loss: 0.2450 - val_loss: 0.2422\n",
      "Epoch 74/100\n",
      "253/253 [==============================] - 0s 52us/sample - loss: 0.2415 - val_loss: 0.2390\n",
      "Epoch 75/100\n",
      "253/253 [==============================] - 0s 45us/sample - loss: 0.2384 - val_loss: 0.2360\n",
      "Epoch 76/100\n",
      "253/253 [==============================] - 0s 42us/sample - loss: 0.2354 - val_loss: 0.2330\n",
      "Epoch 77/100\n",
      "253/253 [==============================] - 0s 35us/sample - loss: 0.2324 - val_loss: 0.2302\n",
      "Epoch 78/100\n",
      "253/253 [==============================] - 0s 37us/sample - loss: 0.2296 - val_loss: 0.2274\n",
      "Epoch 79/100\n",
      "253/253 [==============================] - 0s 41us/sample - loss: 0.2269 - val_loss: 0.2248\n",
      "Epoch 80/100\n",
      "253/253 [==============================] - 0s 53us/sample - loss: 0.2244 - val_loss: 0.2222\n",
      "Epoch 81/100\n",
      "253/253 [==============================] - 0s 68us/sample - loss: 0.2218 - val_loss: 0.2197\n",
      "Epoch 82/100\n",
      "253/253 [==============================] - 0s 61us/sample - loss: 0.2193 - val_loss: 0.2174\n",
      "Epoch 83/100\n",
      "253/253 [==============================] - 0s 51us/sample - loss: 0.2171 - val_loss: 0.2151\n",
      "Epoch 84/100\n",
      "253/253 [==============================] - 0s 57us/sample - loss: 0.2146 - val_loss: 0.2128\n",
      "Epoch 85/100\n",
      "253/253 [==============================] - 0s 55us/sample - loss: 0.2123 - val_loss: 0.2105\n",
      "Epoch 86/100\n",
      "253/253 [==============================] - 0s 58us/sample - loss: 0.2101 - val_loss: 0.2084\n",
      "Epoch 87/100\n",
      "253/253 [==============================] - 0s 54us/sample - loss: 0.2082 - val_loss: 0.2063\n",
      "Epoch 88/100\n",
      "253/253 [==============================] - 0s 44us/sample - loss: 0.2059 - val_loss: 0.2042\n",
      "Epoch 89/100\n",
      "253/253 [==============================] - 0s 45us/sample - loss: 0.2038 - val_loss: 0.2022\n",
      "Epoch 90/100\n",
      "253/253 [==============================] - 0s 52us/sample - loss: 0.2019 - val_loss: 0.2002\n",
      "Epoch 91/100\n",
      "253/253 [==============================] - 0s 44us/sample - loss: 0.1999 - val_loss: 0.1982\n",
      "Epoch 92/100\n",
      "253/253 [==============================] - 0s 38us/sample - loss: 0.1979 - val_loss: 0.1963\n",
      "Epoch 93/100\n",
      "253/253 [==============================] - 0s 40us/sample - loss: 0.1959 - val_loss: 0.1944\n",
      "Epoch 94/100\n",
      "253/253 [==============================] - 0s 45us/sample - loss: 0.1941 - val_loss: 0.1926\n",
      "Epoch 95/100\n",
      "253/253 [==============================] - 0s 45us/sample - loss: 0.1923 - val_loss: 0.1908\n",
      "Epoch 96/100\n",
      "253/253 [==============================] - 0s 55us/sample - loss: 0.1905 - val_loss: 0.1891\n",
      "Epoch 97/100\n",
      "253/253 [==============================] - 0s 55us/sample - loss: 0.1888 - val_loss: 0.1874\n",
      "Epoch 98/100\n",
      "253/253 [==============================] - 0s 56us/sample - loss: 0.1871 - val_loss: 0.1857\n",
      "Epoch 99/100\n",
      "253/253 [==============================] - 0s 56us/sample - loss: 0.1855 - val_loss: 0.1841\n",
      "Epoch 100/100\n",
      "253/253 [==============================] - 0s 54us/sample - loss: 0.1840 - val_loss: 0.1825\n"
     ]
    },
    {
     "data": {
      "text/plain": [
       "<tensorflow.python.keras.callbacks.History at 0x7f395073ada0>"
      ]
     },
     "execution_count": 25,
     "metadata": {},
     "output_type": "execute_result"
    }
   ],
   "source": [
    "ae, enc, dec = ae_model()\n",
    "ae.summary()\n",
    "ae.fit(strain_x, strain_x, batch_size=128, epochs=100, validation_data=(strain_x, strain_x), verbose=1)"
   ]
  },
  {
   "cell_type": "code",
   "execution_count": 27,
   "metadata": {},
   "outputs": [],
   "source": [
    "ae.save('boston_ae.h5', save_format='h5')\n",
    "enc.save('boston_enc.h5', save_format='h5')"
   ]
  },
  {
   "cell_type": "markdown",
   "metadata": {},
   "source": [
    "## Generate counterfactual guided by the nearest class prototype"
   ]
  },
  {
   "cell_type": "markdown",
   "metadata": {},
   "source": [
    "Original instance:"
   ]
  },
  {
   "cell_type": "code",
   "execution_count": 13,
   "metadata": {},
   "outputs": [],
   "source": [
    "X = squery_x[1].reshape((1,) + squery_x[1].shape)\n",
    "shape = X.shape"
   ]
  },
  {
   "cell_type": "markdown",
   "metadata": {},
   "source": [
    "Run counterfactual:"
   ]
  },
  {
   "cell_type": "code",
   "execution_count": 14,
   "metadata": {
    "scrolled": true
   },
   "outputs": [
    {
     "name": "stderr",
     "output_type": "stream",
     "text": [
      "No encoder specified. Using k-d trees to represent class prototypes.\n"
     ]
    }
   ],
   "source": [
    "# define model\n",
    "nn = load_model('nn_boston.h5')\n",
    "\n",
    "# initialize explainer, fit and generate counterfactual\n",
    "cf = CounterfactualProto(nn, shape, use_kdtree=True, theta=10., max_iterations=1000,\n",
    "                         feature_range=(strain_x.min(axis=0), strain_x.max(axis=0)), \n",
    "                         c_init=1., c_steps=10)\n",
    "\n",
    "cf.fit(strain_x)\n",
    "explanation = cf.explain(X)"
   ]
  },
  {
   "cell_type": "markdown",
   "metadata": {},
   "source": [
    "The prediction flipped from 0 (value below the median) to 1 (above the median):"
   ]
  },
  {
   "cell_type": "code",
   "execution_count": 15,
   "metadata": {},
   "outputs": [
    {
     "name": "stdout",
     "output_type": "stream",
     "text": [
      "Original prediction: 1\n",
      "Counterfactual prediction: 0\n"
     ]
    }
   ],
   "source": [
    "print(f'Original prediction: {explanation.orig_class}')\n",
    "print('Counterfactual prediction: {}'.format(explanation.cf['class']))"
   ]
  },
  {
   "cell_type": "markdown",
   "metadata": {},
   "source": [
    "Let's take a look at the counterfactual. To make the results more interpretable, we will first undo the pre-processing step and then check where the counterfactual differs from the original instance:"
   ]
  },
  {
   "cell_type": "code",
   "execution_count": 16,
   "metadata": {},
   "outputs": [
    {
     "name": "stdout",
     "output_type": "stream",
     "text": [
      "RM: -1.8724541664123535\n",
      "DIS: 2.132163354492188\n",
      "TAX: 20.029296875\n",
      "PTRATIO: 0.7855649948120114\n",
      "LSTAT: 12.238415985107421\n"
     ]
    }
   ],
   "source": [
    "orig = scaler.inverse_transform(X)\n",
    "counterfactual = scaler.inverse_transform(explanation.cf['X'])\n",
    "delta = counterfactual - orig\n",
    "for i, f in enumerate(feature_names):\n",
    "    if np.abs(delta[0][i]) > 1e-4:\n",
    "        print('{}: {}'.format(f, delta[0][i]))"
   ]
  },
  {
   "cell_type": "markdown",
   "metadata": {},
   "source": [
    "So in order to increase the house price, the proportion of owner-occupied units built prior to 1940 should decrease by ~11-12%. This is not surprising since the proportion for the observation is very high at 93.6%. Furthermore, the % of the population with \"lower status\" should decrease by ~5%."
   ]
  },
  {
   "cell_type": "code",
   "execution_count": 17,
   "metadata": {},
   "outputs": [
    {
     "name": "stdout",
     "output_type": "stream",
     "text": [
      "% owner-occupied units built prior to 1940: 32.0\n",
      "% lower status of the population: 2.9700000000000006\n"
     ]
    }
   ],
   "source": [
    "print('% owner-occupied units built prior to 1940: {}'.format(orig[0][5]))\n",
    "print('% lower status of the population: {}'.format(orig[0][11]))"
   ]
  },
  {
   "cell_type": "code",
   "execution_count": 18,
   "metadata": {},
   "outputs": [
    {
     "name": "stdout",
     "output_type": "stream",
     "text": [
      "{'X': array([[-0.43147114,  2.6884768 , -1.5028751 , -1.101912  , -0.4000601 ,\n",
      "        -1.2435888 ,  1.8462507 , -0.576646  , -0.73746014, -1.4876009 ,\n",
      "         0.3680933 ,  0.51315063]], dtype=float32), 'class': 0, 'proba': array([[0.5437768 , 0.45622322]], dtype=float32), 'grads_graph': array([[-0.06895959,  0.        , -8.506165  ,  5.2730227 , -4.0108366 ,\n",
      "         9.1113615 , -9.770203  ,  6.7364945 , -2.6101213 , -8.591784  ,\n",
      "        -0.2569145 , 25.308483  ]], dtype=float32), 'grads_num': array([[0., 0., 0., 0., 0., 0., 0., 0., 0., 0., 0., 0.]])}\n"
     ]
    }
   ],
   "source": [
    "print(explanation.cf)"
   ]
  },
  {
   "cell_type": "markdown",
   "metadata": {},
   "source": [
    "Generate the counterfactual explanation for all query instances."
   ]
  },
  {
   "cell_type": "code",
   "execution_count": null,
   "metadata": {},
   "outputs": [],
   "source": [
    "query_cf = np.zeros_like(squery_x)\n",
    "query_cf_y = np.zeros(len(squery_x))\n",
    "for idx in range(len(squery_x)):\n",
    "    print(idx)\n",
    "    X = squery_x[idx].reshape((1,) + squery_x[idx].shape)\n",
    "    explanation = cf.explain(X)\n",
    "    query_cf[idx] = explanation.cf['X']\n",
    "    query_cf_y[idx] = explanation.cf['class']"
   ]
  },
  {
   "cell_type": "code",
   "execution_count": null,
   "metadata": {},
   "outputs": [],
   "source": [
    "tmp = np.concatenate((scaler.inverse_transform(query_cf), query_cf_y[:, np.newaxis]), axis = 1)\n",
    "np.save(\"boston_housing_query_cf.npy\", tmp)"
   ]
  },
  {
   "cell_type": "code",
   "execution_count": null,
   "metadata": {},
   "outputs": [],
   "source": [
    "query_ccf = np.zeros_like(squery_x)\n",
    "query_ccf_y = np.zeros(len(squery_x))\n",
    "\n",
    "for idx in range(len(query_cf)):\n",
    "    print(idx)\n",
    "    X = query_cf[idx].reshape((1,) + query_cf[idx].shape)\n",
    "    explanation = cf.explain(X)\n",
    "    query_ccf[idx] = explanation.cf['X']\n",
    "    query_ccf_y[idx] = explanation.cf['class']"
   ]
  },
  {
   "cell_type": "code",
   "execution_count": null,
   "metadata": {},
   "outputs": [],
   "source": [
    "tmp1 = np.concatenate((scaler.inverse_transform(query_ccf), query_pnss_y[:, np.newaxis]), axis = 1)\n",
    "np.save(\"boston_housing_query_2cf.npy\", tmp1)"
   ]
  },
  {
   "cell_type": "code",
   "execution_count": null,
   "metadata": {},
   "outputs": [],
   "source": [
    "print(query_pnss_y)"
   ]
  },
  {
   "cell_type": "code",
   "execution_count": null,
   "metadata": {},
   "outputs": [],
   "source": [
    "print(query_pns_y)"
   ]
  },
  {
   "cell_type": "code",
   "execution_count": null,
   "metadata": {},
   "outputs": [],
   "source": [
    "print(query_pnss[0].max())"
   ]
  },
  {
   "cell_type": "code",
   "execution_count": null,
   "metadata": {},
   "outputs": [],
   "source": [
    "print(query_pns - query_pnss)"
   ]
  },
  {
   "cell_type": "code",
   "execution_count": null,
   "metadata": {},
   "outputs": [],
   "source": []
  }
 ],
 "metadata": {
  "kernelspec": {
   "display_name": "Python 3",
   "language": "python",
   "name": "python3"
  },
  "language_info": {
   "codemirror_mode": {
    "name": "ipython",
    "version": 3
   },
   "file_extension": ".py",
   "mimetype": "text/x-python",
   "name": "python",
   "nbconvert_exporter": "python",
   "pygments_lexer": "ipython3",
   "version": "3.7.3"
  }
 },
 "nbformat": 4,
 "nbformat_minor": 2
}
