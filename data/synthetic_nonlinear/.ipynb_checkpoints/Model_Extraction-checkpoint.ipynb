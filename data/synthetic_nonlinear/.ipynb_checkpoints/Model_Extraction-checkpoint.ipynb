{
 "cells": [
  {
   "cell_type": "code",
   "execution_count": 1,
   "metadata": {},
   "outputs": [],
   "source": [
    "import numpy as np\n",
    "import pandas as pd\n",
    "import torch\n",
    "import random\n",
    "import copy\n",
    "import torch.nn as nn\n",
    "import torch.optim as optim\n",
    "from sklearn.preprocessing import MinMaxScaler\n",
    "from torch.utils.data import TensorDataset, DataLoader\n",
    "from sklearn.metrics import accuracy_score, f1_score\n",
    "import matplotlib.pyplot as plt\n",
    "%matplotlib inline"
   ]
  },
  {
   "cell_type": "code",
   "execution_count": 2,
   "metadata": {},
   "outputs": [],
   "source": [
    "dquery = np.load(\"synthetic_query_v1.npy\").astype(np.float32)\n",
    "dval = np.load(\"synthetic_val_v1.npy\").astype(np.float32)\n",
    "dtest = np.load(\"synthetic_test_v1.npy\").astype(np.float32)"
   ]
  },
  {
   "cell_type": "code",
   "execution_count": 3,
   "metadata": {},
   "outputs": [],
   "source": [
    "dcf = np.load(\"synthetic-plaincf.npy\").astype(np.float32)"
   ]
  },
  {
   "cell_type": "code",
   "execution_count": 4,
   "metadata": {},
   "outputs": [],
   "source": [
    "query_x, query_y = dquery[:, 0:2], dquery[:, 2:3]\n",
    "cf_x, cf_y = dcf[:, 0:2], np.round(1 - query_y).astype(np.float32)\n",
    "val_x, val_y = dval[:, 0:2], dval[:, 2:3]\n",
    "test_x, test_y = dtest[:, 0:2], dtest[:, 2:3]"
   ]
  },
  {
   "cell_type": "code",
   "execution_count": 5,
   "metadata": {},
   "outputs": [],
   "source": [
    "scaler = MinMaxScaler()\n",
    "query_x = scaler.fit_transform(query_x)\n",
    "val_x = scaler.transform(val_x)\n",
    "test_x = scaler.transform(test_x)\n",
    "cf_x = scaler.fit_transform(cf_x)"
   ]
  },
  {
   "cell_type": "markdown",
   "metadata": {},
   "source": [
    "# Select subset of query for training"
   ]
  },
  {
   "cell_type": "code",
   "execution_count": 6,
   "metadata": {},
   "outputs": [],
   "source": [
    "a = list(range(len(query_x)))\n",
    "random.shuffle(a)"
   ]
  },
  {
   "cell_type": "code",
   "execution_count": 7,
   "metadata": {},
   "outputs": [],
   "source": [
    "idx = a[0:10]\n",
    "query_sx, query_sy = query_x[idx], query_y[idx]\n",
    "cf_sx, cf_sy = cf_x[0:10], cf_y[0:10]\n",
    "\n",
    "train_x, train_y = np.concatenate((query_sx, cf_sx), axis = 0), np.concatenate((query_sy, cf_sy), axis = 0)"
   ]
  },
  {
   "cell_type": "code",
   "execution_count": 8,
   "metadata": {},
   "outputs": [],
   "source": [
    "Query = TensorDataset(torch.from_numpy(train_x), torch.from_numpy(train_y))\n",
    "Val = TensorDataset(torch.from_numpy(val_x), torch.from_numpy(val_y))\n",
    "Test = TensorDataset(torch.from_numpy(test_x), torch.from_numpy(test_y))"
   ]
  },
  {
   "cell_type": "code",
   "execution_count": 9,
   "metadata": {},
   "outputs": [],
   "source": [
    "query_loader = DataLoader(Query, batch_size  = 32)\n",
    "val_loader = DataLoader(Val, batch_size = 32)\n",
    "test_loader = DataLoader(Test, batch_size = 32)"
   ]
  },
  {
   "cell_type": "code",
   "execution_count": 10,
   "metadata": {},
   "outputs": [
    {
     "name": "stdout",
     "output_type": "stream",
     "text": [
      "[[-0.38  2.12]\n",
      " [ 2.07  3.59]\n",
      " [ 5.49  4.77]\n",
      " ...\n",
      " [ 5.34  4.18]\n",
      " [ 0.64  3.03]\n",
      " [ 4.17  3.13]]\n"
     ]
    }
   ],
   "source": [
    "print(dcf)"
   ]
  },
  {
   "cell_type": "code",
   "execution_count": 11,
   "metadata": {},
   "outputs": [],
   "source": [
    "def train(model, iterator, optimizer, criterion, device):\n",
    "\n",
    "    epoch_loss = 0\n",
    "    model.train()\n",
    "    prediction = []\n",
    "    label = []\n",
    "\n",
    "    for batch_idx, (data, target) in enumerate(iterator):\n",
    "        data, target = data.to(device), target.to(device)\n",
    "        optimizer.zero_grad()\n",
    "        output = model(data)\n",
    "        preds = torch.round(output)\n",
    "        loss = criterion(output, target)\n",
    "        loss.backward()\n",
    "        optimizer.step()\n",
    "        epoch_loss += loss.item() * len(target)\n",
    "        label.extend(target.tolist())\n",
    "        prediction.extend(preds.reshape(-1).tolist())\n",
    "\n",
    "    acc = accuracy_score(label, prediction)\n",
    "    f1 = f1_score(label, prediction)\n",
    "\n",
    "    return epoch_loss / len(iterator.dataset), acc, f1\n",
    "\n",
    "def evaluate(model, iterator, criterion, device):\n",
    "\n",
    "    epoch_loss = 0\n",
    "    model.eval()\n",
    "    prediction = []\n",
    "    label = []\n",
    "\n",
    "    with torch.no_grad():\n",
    "        for batch_idx, (data, target) in enumerate(iterator):\n",
    "\n",
    "            data, target = data.to(device), target.to(device)\n",
    "            output = model(data)\n",
    "            _, preds = torch.max(output, 1)\n",
    "            preds = torch.round(output)\n",
    "            loss = criterion(output, target)\n",
    "            epoch_loss += loss.item() * len(target)\n",
    "            label.extend(target.tolist())\n",
    "            prediction.extend(preds.reshape(-1).tolist())\n",
    "            \n",
    "    acc = accuracy_score(label, prediction)\n",
    "    f1 = f1_score(label, prediction)\n",
    "\n",
    "    return epoch_loss / len(iterator.dataset), acc, f1"
   ]
  },
  {
   "cell_type": "code",
   "execution_count": 12,
   "metadata": {},
   "outputs": [
    {
     "name": "stdout",
     "output_type": "stream",
     "text": [
      "Epoch: 0 | Train Loss: 0.6937 | Train Acc: 0.5500 | Train F1: 0.7097\n",
      "Epoch: 0 | Val. Loss: 0.6975 |  Val. Acc: 0.5337 |  Val. F1: 0.6960\n",
      "Epoch: 50 | Train Loss: 0.5644 | Train Acc: 0.8000 | Train F1: 0.8462\n",
      "Epoch: 50 | Val. Loss: 0.4525 |  Val. Acc: 0.8994 |  Val. F1: 0.9064\n",
      "Epoch: 100 | Train Loss: 0.4179 | Train Acc: 0.8000 | Train F1: 0.8462\n",
      "Epoch: 100 | Val. Loss: 0.2625 |  Val. Acc: 0.9117 |  Val. F1: 0.9126\n",
      "Epoch: 150 | Train Loss: 0.3193 | Train Acc: 0.8500 | Train F1: 0.8696\n",
      "Epoch: 150 | Val. Loss: 0.2777 |  Val. Acc: 0.8957 |  Val. F1: 0.8939\n",
      "Epoch: 200 | Train Loss: 0.2353 | Train Acc: 0.8500 | Train F1: 0.8696\n",
      "Epoch: 200 | Val. Loss: 0.3032 |  Val. Acc: 0.8896 |  Val. F1: 0.8866\n",
      "Epoch: 250 | Train Loss: 0.1636 | Train Acc: 0.9500 | Train F1: 0.9565\n",
      "Epoch: 250 | Val. Loss: 0.3870 |  Val. Acc: 0.7890 |  Val. F1: 0.7584\n",
      "Epoch: 300 | Train Loss: 0.1091 | Train Acc: 1.0000 | Train F1: 1.0000\n",
      "Epoch: 300 | Val. Loss: 0.5846 |  Val. Acc: 0.7276 |  Val. F1: 0.6667\n",
      "Epoch: 350 | Train Loss: 0.0746 | Train Acc: 1.0000 | Train F1: 1.0000\n",
      "Epoch: 350 | Val. Loss: 0.7653 |  Val. Acc: 0.7227 |  Val. F1: 0.6607\n",
      "Epoch: 400 | Train Loss: 0.0544 | Train Acc: 1.0000 | Train F1: 1.0000\n",
      "Epoch: 400 | Val. Loss: 0.9562 |  Val. Acc: 0.7190 |  Val. F1: 0.6556\n",
      "Epoch: 450 | Train Loss: 0.0412 | Train Acc: 1.0000 | Train F1: 1.0000\n",
      "Epoch: 450 | Val. Loss: 1.1255 |  Val. Acc: 0.7153 |  Val. F1: 0.6506\n",
      "Best Val. F1: 0.9225, Best Val. Accuarcy: 0.9202\n"
     ]
    }
   ],
   "source": [
    "model = nn.Sequential(\n",
    "    nn.Linear(2, 20),\n",
    "    nn.ReLU(),\n",
    "    nn.Linear(20, 10),\n",
    "    nn.ReLU(),\n",
    "    nn.Linear(10, 1),\n",
    "    nn.Sigmoid(),\n",
    ")\n",
    "\n",
    "\n",
    "optimizer = optim.Adam(model.parameters(), lr = 0.005)\n",
    "criterion = nn.BCELoss()\n",
    "#device = torch.device(\"cuda\" if torch.cuda.is_available() else \"cpu\")\n",
    "device = torch.device(\"cpu\")\n",
    "model = model.to(device)\n",
    "criterion = criterion.to(device)\n",
    "\n",
    "best_f1 = -float('inf')\n",
    "best_model = None\n",
    "best_acc = -float('inf')\n",
    "\n",
    "for epoch in range(500):\n",
    "\n",
    "    train_loss, train_acc, train_f1 = train(model, query_loader, optimizer, criterion, device)\n",
    "    valid_loss, valid_acc, val_f1 = evaluate(model, test_loader, criterion, device)\n",
    "\n",
    "    if val_f1 > best_f1:\n",
    "        best_f1 = val_f1\n",
    "        best_model = copy.deepcopy(model)\n",
    "        best_acc = valid_acc\n",
    "    \n",
    "    if epoch % 50 == 0:\n",
    "        print(f'Epoch: {epoch} | Train Loss: {train_loss:.4f} | Train Acc: {train_acc:.4f} | Train F1: {train_f1:.4f}')\n",
    "        print(f'Epoch: {epoch} | Val. Loss: {valid_loss:.4f} |  Val. Acc: {valid_acc:.4f} |  Val. F1: {val_f1:.4f}')\n",
    "\n",
    "print(\"Best Val. F1: {:.4f}, Best Val. Accuarcy: {:.4f}\".format(best_f1, best_acc))"
   ]
  },
  {
   "cell_type": "code",
   "execution_count": 13,
   "metadata": {},
   "outputs": [],
   "source": [
    "h= 0.02\n",
    "x_min, x_max = dquery[:, 0].min() - .5, dquery[:, 0].max() + .5\n",
    "y_min, y_max = dquery[:, 1].min() - .5, dquery[:, 1].max() + .5\n",
    "xx, yy = np.meshgrid(np.arange(x_min, x_max, h),\n",
    "                 np.arange(y_min, y_max, h))"
   ]
  },
  {
   "cell_type": "code",
   "execution_count": 14,
   "metadata": {},
   "outputs": [],
   "source": [
    "dplot = np.c_[xx.ravel(), yy.ravel()]\n",
    "_dplot = scaler.transform(dplot).astype(np.float32)\n",
    "_dplot = torch.from_numpy(_dplot)\n",
    "S = torch.round(best_model(_dplot)).detach().numpy()"
   ]
  },
  {
   "cell_type": "code",
   "execution_count": 15,
   "metadata": {},
   "outputs": [],
   "source": [
    "S = S.reshape(xx.shape)"
   ]
  },
  {
   "cell_type": "code",
   "execution_count": 16,
   "metadata": {},
   "outputs": [
    {
     "ename": "IndexError",
     "evalue": "index 2 is out of bounds for axis 1 with size 2",
     "output_type": "error",
     "traceback": [
      "\u001b[0;31m---------------------------------------------------------------------------\u001b[0m",
      "\u001b[0;31mIndexError\u001b[0m                                Traceback (most recent call last)",
      "\u001b[0;32m<ipython-input-16-a58c2690a41d>\u001b[0m in \u001b[0;36m<module>\u001b[0;34m\u001b[0m\n\u001b[1;32m      1\u001b[0m \u001b[0max\u001b[0m \u001b[0;34m=\u001b[0m \u001b[0mplt\u001b[0m\u001b[0;34m.\u001b[0m\u001b[0mgca\u001b[0m\u001b[0;34m(\u001b[0m\u001b[0;34m)\u001b[0m\u001b[0;34m\u001b[0m\u001b[0;34m\u001b[0m\u001b[0m\n\u001b[1;32m      2\u001b[0m \u001b[0max\u001b[0m\u001b[0;34m.\u001b[0m\u001b[0mcontour\u001b[0m\u001b[0;34m(\u001b[0m\u001b[0mxx\u001b[0m\u001b[0;34m,\u001b[0m \u001b[0myy\u001b[0m\u001b[0;34m,\u001b[0m \u001b[0mS\u001b[0m\u001b[0;34m)\u001b[0m\u001b[0;34m\u001b[0m\u001b[0;34m\u001b[0m\u001b[0m\n\u001b[0;32m----> 3\u001b[0;31m \u001b[0max\u001b[0m\u001b[0;34m.\u001b[0m\u001b[0mscatter\u001b[0m\u001b[0;34m(\u001b[0m\u001b[0mdcf\u001b[0m\u001b[0;34m[\u001b[0m\u001b[0;36m0\u001b[0m\u001b[0;34m:\u001b[0m\u001b[0;36m10\u001b[0m\u001b[0;34m,\u001b[0m \u001b[0;36m0\u001b[0m\u001b[0;34m]\u001b[0m\u001b[0;34m,\u001b[0m \u001b[0mdcf\u001b[0m\u001b[0;34m[\u001b[0m\u001b[0;36m0\u001b[0m\u001b[0;34m:\u001b[0m\u001b[0;36m10\u001b[0m\u001b[0;34m,\u001b[0m \u001b[0;36m1\u001b[0m\u001b[0;34m]\u001b[0m\u001b[0;34m,\u001b[0m \u001b[0mc\u001b[0m \u001b[0;34m=\u001b[0m \u001b[0mnp\u001b[0m\u001b[0;34m.\u001b[0m\u001b[0mround\u001b[0m\u001b[0;34m(\u001b[0m\u001b[0mdcf\u001b[0m\u001b[0;34m[\u001b[0m\u001b[0;36m0\u001b[0m\u001b[0;34m:\u001b[0m\u001b[0;36m10\u001b[0m\u001b[0;34m,\u001b[0m \u001b[0;36m2\u001b[0m\u001b[0;34m]\u001b[0m\u001b[0;34m)\u001b[0m\u001b[0;34m,\u001b[0m \u001b[0mmarker\u001b[0m \u001b[0;34m=\u001b[0m \u001b[0;34m\"*\"\u001b[0m\u001b[0;34m)\u001b[0m\u001b[0;34m\u001b[0m\u001b[0;34m\u001b[0m\u001b[0m\n\u001b[0m\u001b[1;32m      4\u001b[0m \u001b[0max\u001b[0m\u001b[0;34m.\u001b[0m\u001b[0mscatter\u001b[0m\u001b[0;34m(\u001b[0m\u001b[0mdquery\u001b[0m\u001b[0;34m[\u001b[0m\u001b[0midx\u001b[0m\u001b[0;34m,\u001b[0m \u001b[0;36m0\u001b[0m\u001b[0;34m]\u001b[0m\u001b[0;34m,\u001b[0m \u001b[0mdquery\u001b[0m\u001b[0;34m[\u001b[0m\u001b[0midx\u001b[0m\u001b[0;34m,\u001b[0m \u001b[0;36m1\u001b[0m\u001b[0;34m]\u001b[0m\u001b[0;34m,\u001b[0m \u001b[0mc\u001b[0m\u001b[0;34m=\u001b[0m\u001b[0mdquery\u001b[0m\u001b[0;34m[\u001b[0m\u001b[0midx\u001b[0m\u001b[0;34m,\u001b[0m \u001b[0;36m2\u001b[0m\u001b[0;34m]\u001b[0m\u001b[0;34m)\u001b[0m\u001b[0;34m\u001b[0m\u001b[0;34m\u001b[0m\u001b[0m\n\u001b[1;32m      5\u001b[0m \u001b[0mplt\u001b[0m\u001b[0;34m.\u001b[0m\u001b[0mshow\u001b[0m\u001b[0;34m(\u001b[0m\u001b[0;34m)\u001b[0m\u001b[0;34m\u001b[0m\u001b[0;34m\u001b[0m\u001b[0m\n",
      "\u001b[0;31mIndexError\u001b[0m: index 2 is out of bounds for axis 1 with size 2"
     ]
    },
    {
     "data": {
      "image/png": "[encoded data removed]",
      "text/plain": [
       "<Figure size 432x288 with 1 Axes>"
      ]
     },
     "metadata": {
      "needs_background": "light"
     },
     "output_type": "display_data"
    }
   ],
   "source": [
    "ax = plt.gca()\n",
    "ax.contour(xx, yy, S)\n",
    "ax.scatter(dcf[0:10, 0], dcf[0:10, 1], c = np.round(1 - dquery[0:10, 2]), marker = \"*\")\n",
    "ax.scatter(dquery[idx, 0], dquery[idx, 1], c=dquery[idx, 2])\n",
    "plt.show()"
   ]
  },
  {
   "cell_type": "code",
   "execution_count": null,
   "metadata": {},
   "outputs": [],
   "source": []
  }
 ],
 "metadata": {
  "kernelspec": {
   "display_name": "Python 3",
   "language": "python",
   "name": "python3"
  },
  "language_info": {
   "codemirror_mode": {
    "name": "ipython",
    "version": 3
   },
   "file_extension": ".py",
   "mimetype": "text/x-python",
   "name": "python",
   "nbconvert_exporter": "python",
   "pygments_lexer": "ipython3",
   "version": "3.7.3"
  }
 },
 "nbformat": 4,
 "nbformat_minor": 2
}
