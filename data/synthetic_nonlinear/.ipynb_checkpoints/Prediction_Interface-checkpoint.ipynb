{
 "cells": [
  {
   "cell_type": "code",
   "execution_count": 16,
   "metadata": {},
   "outputs": [],
   "source": [
    "import numpy as np\n",
    "import pandas as pd\n",
    "import torch\n",
    "import random\n",
    "import copy\n",
    "import torch.nn as nn\n",
    "import torch.optim as optim\n",
    "from sklearn.preprocessing import MinMaxScaler\n",
    "from torch.utils.data import TensorDataset, DataLoader\n",
    "from sklearn.metrics import accuracy_score, f1_score\n",
    "import matplotlib.pyplot as plt\n",
    "%matplotlib inline"
   ]
  },
  {
   "cell_type": "code",
   "execution_count": 17,
   "metadata": {},
   "outputs": [],
   "source": [
    "dquery = np.load(\"synthetic_query_v1.npy\").astype(np.float32)\n",
    "dval = np.load(\"synthetic_val_v1.npy\").astype(np.float32)\n",
    "dtest = np.load(\"synthetic_test_v1.npy\").astype(np.float32)"
   ]
  },
  {
   "cell_type": "code",
   "execution_count": 18,
   "metadata": {},
   "outputs": [],
   "source": [
    "query_x, query_y = dquery[:, 0:2], dquery[:, 2:3]\n",
    "val_x, val_y = dval[:, 0:2], dval[:, 2:3]\n",
    "test_x, test_y = dtest[:, 0:2], dtest[:, 2:3]"
   ]
  },
  {
   "cell_type": "code",
   "execution_count": 19,
   "metadata": {},
   "outputs": [],
   "source": [
    "scaler = MinMaxScaler()\n",
    "query_x = scaler.fit_transform(query_x)\n",
    "val_x = scaler.transform(val_x)\n",
    "test_x = scaler.transform(test_x)"
   ]
  },
  {
   "cell_type": "markdown",
   "metadata": {},
   "source": [
    "# Select subset of query for training"
   ]
  },
  {
   "cell_type": "code",
   "execution_count": 20,
   "metadata": {},
   "outputs": [],
   "source": [
    "a = list(range(len(query_x)))\n",
    "random.shuffle(a)"
   ]
  },
  {
   "cell_type": "code",
   "execution_count": 21,
   "metadata": {},
   "outputs": [],
   "source": [
    "a = np.load(\"index.npy\")"
   ]
  },
  {
   "cell_type": "code",
   "execution_count": 22,
   "metadata": {},
   "outputs": [],
   "source": [
    "idx = a[0:10]\n",
    "query_sx, query_sy = query_x[idx], query_y[idx]"
   ]
  },
  {
   "cell_type": "code",
   "execution_count": 23,
   "metadata": {},
   "outputs": [],
   "source": [
    "Query = TensorDataset(torch.from_numpy(query_sx), torch.from_numpy(query_sy))\n",
    "Val = TensorDataset(torch.from_numpy(val_x), torch.from_numpy(val_y))\n",
    "Test = TensorDataset(torch.from_numpy(test_x), torch.from_numpy(test_y))"
   ]
  },
  {
   "cell_type": "code",
   "execution_count": 24,
   "metadata": {},
   "outputs": [],
   "source": [
    "query_loader = DataLoader(Query, batch_size  = 32)\n",
    "val_loader = DataLoader(Val, batch_size = 32)\n",
    "test_loader = DataLoader(Test, batch_size = 32)"
   ]
  },
  {
   "cell_type": "code",
   "execution_count": 25,
   "metadata": {},
   "outputs": [],
   "source": [
    "def train(model, iterator, optimizer, criterion, device):\n",
    "\n",
    "    epoch_loss = 0\n",
    "    model.train()\n",
    "    prediction = []\n",
    "    label = []\n",
    "\n",
    "    for batch_idx, (data, target) in enumerate(iterator):\n",
    "        data, target = data.to(device), target.to(device)\n",
    "        optimizer.zero_grad()\n",
    "        output = model(data)\n",
    "        preds = torch.round(output)\n",
    "        loss = criterion(output, target)\n",
    "        loss.backward()\n",
    "        optimizer.step()\n",
    "        epoch_loss += loss.item() * len(target)\n",
    "        label.extend(target.tolist())\n",
    "        prediction.extend(preds.reshape(-1).tolist())\n",
    "\n",
    "    acc = accuracy_score(label, prediction)\n",
    "    f1 = f1_score(label, prediction)\n",
    "\n",
    "    return epoch_loss / len(iterator.dataset), acc, f1\n",
    "\n",
    "def evaluate(model, iterator, criterion, device):\n",
    "\n",
    "    epoch_loss = 0\n",
    "    model.eval()\n",
    "    prediction = []\n",
    "    label = []\n",
    "\n",
    "    with torch.no_grad():\n",
    "        for batch_idx, (data, target) in enumerate(iterator):\n",
    "\n",
    "            data, target = data.to(device), target.to(device)\n",
    "            output = model(data)\n",
    "            _, preds = torch.max(output, 1)\n",
    "            preds = torch.round(output)\n",
    "            loss = criterion(output, target)\n",
    "            epoch_loss += loss.item() * len(target)\n",
    "            label.extend(target.tolist())\n",
    "            prediction.extend(preds.reshape(-1).tolist())\n",
    "            \n",
    "    acc = accuracy_score(label, prediction)\n",
    "    f1 = f1_score(label, prediction)\n",
    "\n",
    "    return epoch_loss / len(iterator.dataset), acc, f1"
   ]
  },
  {
   "cell_type": "code",
   "execution_count": 26,
   "metadata": {},
   "outputs": [
    {
     "name": "stdout",
     "output_type": "stream",
     "text": [
      "Epoch: 0 | Train Loss: 0.6907 | Train Acc: 0.4000 | Train F1: 0.0000\n",
      "Epoch: 0 | Val. Loss: 0.6856 |  Val. Acc: 0.7509 |  Val. F1: 0.8050\n",
      "Epoch: 50 | Train Loss: 0.3521 | Train Acc: 1.0000 | Train F1: 1.0000\n",
      "Epoch: 50 | Val. Loss: 0.4515 |  Val. Acc: 0.8086 |  Val. F1: 0.8455\n",
      "Epoch: 100 | Train Loss: 0.0736 | Train Acc: 1.0000 | Train F1: 1.0000\n",
      "Epoch: 100 | Val. Loss: 0.6914 |  Val. Acc: 0.8184 |  Val. F1: 0.8535\n",
      "Epoch: 150 | Train Loss: 0.0254 | Train Acc: 1.0000 | Train F1: 1.0000\n",
      "Epoch: 150 | Val. Loss: 1.1249 |  Val. Acc: 0.8049 |  Val. F1: 0.8440\n",
      "Epoch: 200 | Train Loss: 0.0113 | Train Acc: 1.0000 | Train F1: 1.0000\n",
      "Epoch: 200 | Val. Loss: 1.3716 |  Val. Acc: 0.8086 |  Val. F1: 0.8462\n",
      "Epoch: 250 | Train Loss: 0.0060 | Train Acc: 1.0000 | Train F1: 1.0000\n",
      "Epoch: 250 | Val. Loss: 1.5283 |  Val. Acc: 0.8061 |  Val. F1: 0.8439\n",
      "Epoch: 300 | Train Loss: 0.0037 | Train Acc: 1.0000 | Train F1: 1.0000\n",
      "Epoch: 300 | Val. Loss: 2.1814 |  Val. Acc: 0.8074 |  Val. F1: 0.8447\n",
      "Epoch: 350 | Train Loss: 0.0025 | Train Acc: 1.0000 | Train F1: 1.0000\n",
      "Epoch: 350 | Val. Loss: 2.6956 |  Val. Acc: 0.8086 |  Val. F1: 0.8455\n",
      "Epoch: 400 | Train Loss: 0.0018 | Train Acc: 1.0000 | Train F1: 1.0000\n",
      "Epoch: 400 | Val. Loss: 3.2963 |  Val. Acc: 0.8086 |  Val. F1: 0.8455\n",
      "Epoch: 450 | Train Loss: 0.0013 | Train Acc: 1.0000 | Train F1: 1.0000\n",
      "Epoch: 450 | Val. Loss: 4.3796 |  Val. Acc: 0.8086 |  Val. F1: 0.8452\n",
      "Best Val. F1: 0.8552, Best Val. Accuarcy: 0.8209\n"
     ]
    }
   ],
   "source": [
    "model = nn.Sequential(\n",
    "    nn.Linear(2, 20),\n",
    "    nn.ReLU(),\n",
    "    nn.Linear(20, 10),\n",
    "    nn.ReLU(),\n",
    "    nn.Linear(10, 1),\n",
    "    nn.Sigmoid(),\n",
    ")\n",
    "\n",
    "\n",
    "optimizer = optim.Adam(model.parameters(), lr = 0.005)\n",
    "criterion = nn.BCELoss()\n",
    "#device = torch.device(\"cuda\" if torch.cuda.is_available() else \"cpu\")\n",
    "device = torch.device(\"cpu\")\n",
    "model = model.to(device)\n",
    "criterion = criterion.to(device)\n",
    "\n",
    "best_f1 = -float('inf')\n",
    "best_model = None\n",
    "best_acc = -float('inf')\n",
    "\n",
    "for epoch in range(500):\n",
    "\n",
    "    train_loss, train_acc, train_f1 = train(model, query_loader, optimizer, criterion, device)\n",
    "    valid_loss, valid_acc, val_f1 = evaluate(model, test_loader, criterion, device)\n",
    "\n",
    "    if val_f1 > best_f1:\n",
    "        best_f1 = val_f1\n",
    "        best_model = copy.deepcopy(model)\n",
    "        best_acc = valid_acc\n",
    "    \n",
    "    if epoch % 50 == 0:\n",
    "        print(f'Epoch: {epoch} | Train Loss: {train_loss:.4f} | Train Acc: {train_acc:.4f} | Train F1: {train_f1:.4f}')\n",
    "        print(f'Epoch: {epoch} | Val. Loss: {valid_loss:.4f} |  Val. Acc: {valid_acc:.4f} |  Val. F1: {val_f1:.4f}')\n",
    "\n",
    "print(\"Best Val. F1: {:.4f}, Best Val. Accuarcy: {:.4f}\".format(best_f1, best_acc))"
   ]
  },
  {
   "cell_type": "code",
   "execution_count": 27,
   "metadata": {},
   "outputs": [],
   "source": [
    "h= 0.02\n",
    "x_min, x_max = dquery[:, 0].min() - .5, dquery[:, 0].max() + .5\n",
    "y_min, y_max = dquery[:, 1].min() - .5, dquery[:, 1].max() + .5\n",
    "xx, yy = np.meshgrid(np.arange(x_min, x_max, h),\n",
    "                 np.arange(y_min, y_max, h))"
   ]
  },
  {
   "cell_type": "code",
   "execution_count": 28,
   "metadata": {},
   "outputs": [],
   "source": [
    "dplot = np.c_[xx.ravel(), yy.ravel()]\n",
    "_dplot = scaler.transform(dplot).astype(np.float32)\n",
    "_dplot = torch.from_numpy(_dplot)\n",
    "S = torch.round(best_model(_dplot)).detach().numpy()"
   ]
  },
  {
   "cell_type": "code",
   "execution_count": 29,
   "metadata": {},
   "outputs": [],
   "source": [
    "S = S.reshape(xx.shape)"
   ]
  },
  {
   "cell_type": "code",
   "execution_count": 30,
   "metadata": {},
   "outputs": [
    {
     "data": {
      "image/png": "[encoded data removed]",
      "text/plain": [
       "<Figure size 432x288 with 1 Axes>"
      ]
     },
     "metadata": {
      "needs_background": "light"
     },
     "output_type": "display_data"
    }
   ],
   "source": [
    "ax = plt.gca()\n",
    "ax.contour(xx, yy, S)\n",
    "ax.scatter(dquery[idx, 0], dquery[idx, 1], c=dquery[idx, 2])\n",
    "plt.show()"
   ]
  },
  {
   "cell_type": "code",
   "execution_count": null,
   "metadata": {},
   "outputs": [],
   "source": []
  }
 ],
 "metadata": {
  "kernelspec": {
   "display_name": "Python 3",
   "language": "python",
   "name": "python3"
  },
  "language_info": {
   "codemirror_mode": {
    "name": "ipython",
    "version": 3
   },
   "file_extension": ".py",
   "mimetype": "text/x-python",
   "name": "python",
   "nbconvert_exporter": "python",
   "pygments_lexer": "ipython3",
   "version": "3.7.3"
  }
 },
 "nbformat": 4,
 "nbformat_minor": 2
}
