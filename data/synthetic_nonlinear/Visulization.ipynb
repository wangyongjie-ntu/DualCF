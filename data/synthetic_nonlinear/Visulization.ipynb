{
 "cells": [
  {
   "cell_type": "code",
   "execution_count": 1,
   "metadata": {},
   "outputs": [],
   "source": [
    "import numpy as np\n",
    "import pandas as pd\n",
    "import matplotlib.pyplot as plt\n",
    "import torch\n",
    "import copy\n",
    "import random\n",
    "import torch.nn as nn\n",
    "import torch.optim as optim\n",
    "from sklearn.preprocessing import MinMaxScaler\n",
    "from torch.utils.data import TensorDataset, DataLoader\n",
    "from sklearn.metrics import accuracy_score, f1_score\n",
    "\n",
    "%matplotlib inline"
   ]
  },
  {
   "cell_type": "code",
   "execution_count": 2,
   "metadata": {},
   "outputs": [],
   "source": [
    "dtrain = pd.read_csv(\"synthetic_train.csv\").to_numpy().astype(np.float32)\n",
    "train_x, train_y = dtrain[:, 0:2], dtrain[:, 2:3]\n",
    "scaler = MinMaxScaler()\n",
    "train_x = scaler.fit_transform(train_x)"
   ]
  },
  {
   "cell_type": "code",
   "execution_count": 3,
   "metadata": {},
   "outputs": [],
   "source": [
    "h = 0.02\n",
    "x_min, x_max = dtrain[:, 0].min() - .5, dtrain[:, 0].max() + .5\n",
    "y_min, y_max = dtrain[:, 1].min() - .5, dtrain[:, 1].max() + .5\n",
    "xx, yy = np.meshgrid(np.arange(x_min, x_max, h),\n",
    "                 np.arange(y_min, y_max, h))"
   ]
  },
  {
   "cell_type": "code",
   "execution_count": 4,
   "metadata": {},
   "outputs": [],
   "source": [
    "model = torch.load(\"synthetic.pt\")"
   ]
  },
  {
   "cell_type": "code",
   "execution_count": 5,
   "metadata": {},
   "outputs": [],
   "source": [
    "dplot = np.c_[xx.ravel(), yy.ravel()]\n",
    "_dplot = scaler.transform(dplot).astype(np.float32)\n",
    "_dplot = torch.from_numpy(_dplot)\n",
    "S = torch.round(model(_dplot)).detach().numpy()"
   ]
  },
  {
   "cell_type": "code",
   "execution_count": 6,
   "metadata": {},
   "outputs": [],
   "source": [
    "S = S.reshape(xx.shape)"
   ]
  },
  {
   "cell_type": "code",
   "execution_count": 12,
   "metadata": {},
   "outputs": [],
   "source": [
    "dquery = np.load(\"synthetic_query_v1.npy\").astype(np.float32)\n",
    "dcf = np.load(\"synthetic-plaincf.npy\")\n",
    "dccf = np.load(\"synthetic-plaincf-2.npy\")"
   ]
  },
  {
   "cell_type": "code",
   "execution_count": 23,
   "metadata": {},
   "outputs": [],
   "source": [
    "idx = [391, 963, 207, 558, 54]\n",
    "#idx = [0, 1, 2, 3, 4]"
   ]
  },
  {
   "cell_type": "code",
   "execution_count": 24,
   "metadata": {},
   "outputs": [
    {
     "name": "stdout",
     "output_type": "stream",
     "text": [
      "[4.5        3.25999999 0.        ] [5.52 1.12 1.  ]\n"
     ]
    }
   ],
   "source": [
    "print(dcf[1], dquery[1])"
   ]
  },
  {
   "cell_type": "code",
   "execution_count": 28,
   "metadata": {},
   "outputs": [
    {
     "name": "stdout",
     "output_type": "stream",
     "text": [
      "0\n",
      "1\n",
      "2\n",
      "3\n",
      "4\n"
     ]
    },
    {
     "data": {
      "image/png": "[encoded data removed]",
      "text/plain": [
       "<Figure size 432x288 with 1 Axes>"
      ]
     },
     "metadata": {
      "needs_background": "light"
     },
     "output_type": "display_data"
    }
   ],
   "source": [
    "ax = plt.gca()\n",
    "ax.contour(xx, yy, S)\n",
    "ax.scatter(dcf[idx, 0], dcf[idx, 1], c = np.round(dcf[idx, 2]), marker = \"*\")\n",
    "ax.scatter(dquery[idx, 0], dquery[idx, 1], c=dquery[idx, 2], marker = \"P\")\n",
    "ax.scatter(dccf[idx, 0], dccf[idx, 1], c=dccf[idx, 2], marker = \"D\")\n",
    "number = list(range(len(idx)))\n",
    "for i, txt in enumerate(number):\n",
    "    print(i)\n",
    "    ax.annotate(txt, (dquery[idx[i], 0], dquery[idx[i], 1]))\n",
    "    ax.annotate(txt, (dcf[idx[i], 0], dcf[idx[i], 1]))\n",
    "    \n",
    "plt.show()"
   ]
  },
  {
   "cell_type": "code",
   "execution_count": null,
   "metadata": {},
   "outputs": [],
   "source": []
  }
 ],
 "metadata": {
  "kernelspec": {
   "display_name": "Python 3",
   "language": "python",
   "name": "python3"
  },
  "language_info": {
   "codemirror_mode": {
    "name": "ipython",
    "version": 3
   },
   "file_extension": ".py",
   "mimetype": "text/x-python",
   "name": "python",
   "nbconvert_exporter": "python",
   "pygments_lexer": "ipython3",
   "version": "3.7.3"
  }
 },
 "nbformat": 4,
 "nbformat_minor": 2
}
