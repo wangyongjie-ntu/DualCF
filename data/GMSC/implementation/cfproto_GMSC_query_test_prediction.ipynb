{
 "cells": [
  {
   "cell_type": "markdown",
   "metadata": {},
   "source": [
    "# Counterfactuals guided by prototypes on Boston housing dataset"
   ]
  },
  {
   "cell_type": "markdown",
   "metadata": {},
   "source": [
    "This notebook goes through an example of [prototypical counterfactuals](../methods/CFProto.ipynb) using [k-d trees](https://en.wikipedia.org/wiki/K-d_tree) to build the prototypes. Please check out [this notebook](./cfproto_mnist.ipynb) for a more in-depth application of the method on MNIST using (auto-)encoders and trust scores.\n",
    "\n",
    "In this example, we will train a simple neural net to predict whether house prices in the Boston area are above the median value or not. We can then find a counterfactual to see which variables need to be changed to increase or decrease a house price above or below the median value."
   ]
  },
  {
   "cell_type": "code",
   "execution_count": 1,
   "metadata": {},
   "outputs": [
    {
     "name": "stdout",
     "output_type": "stream",
     "text": [
      "TF version:  2.5.1\n",
      "Eager execution enabled:  False\n"
     ]
    }
   ],
   "source": [
    "import tensorflow as tf\n",
    "tf.get_logger().setLevel(40) # suppress deprecation messages\n",
    "tf.compat.v1.disable_v2_behavior() # disable TF2 behaviour as alibi code still relies on TF1 constructs \n",
    "from tensorflow.keras.layers import Dense, Input\n",
    "from tensorflow.keras.models import Model, load_model\n",
    "from tensorflow.keras.utils import to_categorical\n",
    "import matplotlib\n",
    "%matplotlib inline\n",
    "import matplotlib.pyplot as plt\n",
    "import numpy as np\n",
    "import pandas as pd\n",
    "import os\n",
    "import random\n",
    "from sklearn.datasets import load_boston\n",
    "from alibi.explainers.cfproto import CounterfactualProto\n",
    "from sklearn.preprocessing import StandardScaler, MinMaxScaler\n",
    "\n",
    "print('TF version: ', tf.__version__)\n",
    "print('Eager execution enabled: ', tf.executing_eagerly()) # False"
   ]
  },
  {
   "cell_type": "markdown",
   "metadata": {},
   "source": [
    "## Load and prepare Boston housing dataset"
   ]
  },
  {
   "cell_type": "code",
   "execution_count": 2,
   "metadata": {},
   "outputs": [],
   "source": [
    "def load_GMSC(filename):\n",
    "\n",
    "    df = pd.read_csv(filename)\n",
    "    df = df.drop(\"Unnamed: 0\", axis=1) # drop id column\n",
    "    df = df.loc[df[\"DebtRatio\"] <= df[\"DebtRatio\"].quantile(0.975)]\n",
    "    df = df.loc[(df[\"RevolvingUtilizationOfUnsecuredLines\"] >= 0) & (df[\"RevolvingUtilizationOfUnsecuredLines\"] < 13)]\n",
    "    df = df.loc[df[\"NumberOfTimes90DaysLate\"] <= 17] \n",
    "    dependents_mode = df[\"NumberOfDependents\"].mode()[0] # impute with mode\n",
    "    df[\"NumberOfDependents\"] = df[\"NumberOfDependents\"].fillna(dependents_mode)\n",
    "    income_median = df[\"MonthlyIncome\"].median()\n",
    "    df[\"MonthlyIncome\"] = df[\"MonthlyIncome\"].fillna(income_median)\n",
    "    mean = df[\"MonthlyIncome\"].mean()\n",
    "    std = df[\"MonthlyIncome\"].std()\n",
    "    df.loc[df[\"MonthlyIncome\"].isnull()][\"MonthlyIncome\"] = np.random.normal(loc=mean, scale=std, size=len(df.loc[df[\"MonthlyIncome\"].isnull()]))\n",
    "\n",
    "    y = df['SeriousDlqin2yrs']\n",
    "    idx1 = np.argwhere(y.values == 0).squeeze()\n",
    "    idx2 = np.argwhere(y.values == 1).squeeze()\n",
    "    idx3 = idx1[0:len(idx2)]\n",
    "    idx4 = np.concatenate((idx2, idx3))\n",
    "    np.random.seed(0)\n",
    "    np.random.shuffle(idx4)\n",
    "    idx5 = list(set(np.arange(len(df))).difference(idx4))\n",
    "\n",
    "    data1 = df.iloc[idx4]\n",
    "    data2 = df.iloc[idx5]\n",
    "\n",
    "    return data1, data2\n"
   ]
  },
  {
   "cell_type": "code",
   "execution_count": 3,
   "metadata": {},
   "outputs": [],
   "source": [
    "def train_test_split(data):\n",
    "\n",
    "    x = data.iloc[:, 1:]\n",
    "    y = data.iloc[:, 0]\n",
    "\n",
    "    x_ = x.to_numpy().astype(np.float32)\n",
    "    y_ = y.to_numpy().astype(np.float32)\n",
    "    y_ = y_[:, np.newaxis]\n",
    "\n",
    "    x_train, y_train = x_[0: int(len(x_) * 0.5)], y_[0: int(len(y_) * 0.5)]\n",
    "    x_query, y_query = x_[int(len(x_) * 0.5): int(len(x_) * 0.75)], y_[int(len(y_) * 0.5):int(len(y_) * 0.75)]\n",
    "    x_test, y_test = x_[int(len(x_) * 0.75): ], y_[int(len(y_) * 0.75):]\n",
    "\n",
    "    return x_train, y_train, x_query, y_query, x_test, y_test"
   ]
  },
  {
   "cell_type": "code",
   "execution_count": 5,
   "metadata": {},
   "outputs": [],
   "source": [
    "data1, data2 = load_GMSC('../cs-training.csv')\n",
    "train_x, train_y, query_x, query_y, test_x, test_y = train_test_split(data1)\n",
    "scaler = StandardScaler()\n",
    "strain_x = scaler.fit_transform(train_x)\n",
    "squery_x = scaler.transform(query_x)\n",
    "stest_x = scaler.transform(test_x)"
   ]
  },
  {
   "cell_type": "code",
   "execution_count": 6,
   "metadata": {},
   "outputs": [],
   "source": [
    "otrain_y = to_categorical(train_y)\n",
    "oquery_y = to_categorical(query_y)\n",
    "otest_y = to_categorical(test_y)"
   ]
  },
  {
   "cell_type": "code",
   "execution_count": 7,
   "metadata": {},
   "outputs": [
    {
     "name": "stderr",
     "output_type": "stream",
     "text": [
      "`Model.state_updates` will be removed in a future version. This property should not be used in TensorFlow 2.0, as `updates` are applied automatically.\n"
     ]
    },
    {
     "name": "stdout",
     "output_type": "stream",
     "text": [
      "[0.4701878186175948, 0.7844971]\n",
      "[0.49762366521687906, 0.76854354]\n"
     ]
    }
   ],
   "source": [
    "nn = load_model('nn_GMSC.h5')\n",
    "print(nn.evaluate(squery_x, oquery_y))\n",
    "print(nn.evaluate(stest_x, otest_y))"
   ]
  },
  {
   "cell_type": "code",
   "execution_count": 8,
   "metadata": {},
   "outputs": [],
   "source": [
    "query_p = np.argmax(nn.predict(squery_x), axis = 1)\n",
    "test_p = np.argmax(nn.predict(stest_x), axis = 1)"
   ]
  },
  {
   "cell_type": "code",
   "execution_count": 9,
   "metadata": {},
   "outputs": [
    {
     "name": "stdout",
     "output_type": "stream",
     "text": [
      "[1 1 1 ... 0 0 1]\n"
     ]
    }
   ],
   "source": [
    "print(test_p)"
   ]
  },
  {
   "cell_type": "code",
   "execution_count": 10,
   "metadata": {},
   "outputs": [],
   "source": [
    "query_tmp = np.concatenate((query_p[:, np.newaxis], query_x), axis = 1)\n",
    "test_tmp = np.concatenate((test_p[:, np.newaxis], test_x), axis = 1)"
   ]
  },
  {
   "cell_type": "code",
   "execution_count": 11,
   "metadata": {},
   "outputs": [],
   "source": [
    "np.save(\"gmsc_query.npy\", query_tmp)\n",
    "np.save(\"gmsc_test.npy\", test_tmp)"
   ]
  },
  {
   "cell_type": "code",
   "execution_count": null,
   "metadata": {},
   "outputs": [],
   "source": []
  }
 ],
 "metadata": {
  "kernelspec": {
   "display_name": "Python 3",
   "language": "python",
   "name": "python3"
  },
  "language_info": {
   "codemirror_mode": {
    "name": "ipython",
    "version": 3
   },
   "file_extension": ".py",
   "mimetype": "text/x-python",
   "name": "python",
   "nbconvert_exporter": "python",
   "pygments_lexer": "ipython3",
   "version": "3.7.3"
  }
 },
 "nbformat": 4,
 "nbformat_minor": 2
}
